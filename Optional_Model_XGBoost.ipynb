{
  "cells": [
    {
      "cell_type": "markdown",
      "metadata": {
        "id": "view-in-github",
        "colab_type": "text"
      },
      "source": [
        "<a href=\"https://colab.research.google.com/github/santoshmahanti/Rossmann-Sales-Prediction/blob/main/Optional_Model_XGBoost.ipynb\" target=\"_parent\"><img src=\"https://colab.research.google.com/assets/colab-badge.svg\" alt=\"Open In Colab\"/></a>"
      ]
    },
    {
      "cell_type": "code",
      "execution_count": 1,
      "id": "5b1e50e0",
      "metadata": {
        "id": "5b1e50e0"
      },
      "outputs": [],
      "source": [
        "#importing necessary libraries\n",
        "import numpy as np\n",
        "import pandas as pd\n",
        "import matplotlib.pyplot as plt\n",
        "import seaborn as sns\n",
        "%matplotlib inline\n",
        "from datetime import datetime\n",
        "\n",
        "from sklearn.preprocessing import MinMaxScaler\n",
        "from sklearn.model_selection import train_test_split\n",
        "from sklearn.linear_model import LinearRegression\n",
        "from sklearn.metrics import r2_score\n",
        "from sklearn.metrics import mean_squared_error\n",
        "from sklearn.preprocessing import OneHotEncoder\n",
        "\n",
        "\n",
        "import warnings    \n",
        "warnings.filterwarnings('ignore')"
      ]
    },
    {
      "cell_type": "code",
      "source": [
        "import warnings\n",
        "warnings.filterwarnings(\"ignore\")\n",
        "#Data Manipulation and Treatment\n",
        "import numpy as np\n",
        "import pandas as pd\n",
        "from datetime import datetime\n",
        "#Plotting and Visualizations\n",
        "import matplotlib.pyplot as plt\n",
        "import seaborn as sns\n",
        "from scipy import stats\n",
        "import itertools\n",
        "#Scikit-Learn for Modeling\n",
        "from sklearn import model_selection\n",
        "from sklearn.ensemble import RandomForestRegressor\n",
        "from sklearn import metrics"
      ],
      "metadata": {
        "id": "nYunOQzqUXp5"
      },
      "id": "nYunOQzqUXp5",
      "execution_count": 2,
      "outputs": []
    },
    {
      "cell_type": "code",
      "source": [
        "# importing evaluation matrices\n",
        "from sklearn.metrics import mean_absolute_error\n",
        "from sklearn.metrics import mean_squared_error\n",
        "from sklearn.metrics import r2_score\n"
      ],
      "metadata": {
        "id": "eNQx6m5Ozx9S"
      },
      "id": "eNQx6m5Ozx9S",
      "execution_count": 22,
      "outputs": []
    },
    {
      "cell_type": "code",
      "source": [],
      "metadata": {
        "id": "pd_pFC5hzx1j"
      },
      "id": "pd_pFC5hzx1j",
      "execution_count": null,
      "outputs": []
    },
    {
      "cell_type": "code",
      "source": [
        "from google.colab import drive\n",
        "drive.mount('/content/drive')"
      ],
      "metadata": {
        "colab": {
          "base_uri": "https://localhost:8080/"
        },
        "id": "IniVlW-v7VCF",
        "outputId": "5375986d-889f-46bc-99bc-43cc35d33fbe"
      },
      "id": "IniVlW-v7VCF",
      "execution_count": 3,
      "outputs": [
        {
          "output_type": "stream",
          "name": "stdout",
          "text": [
            "Mounted at /content/drive\n"
          ]
        }
      ]
    },
    {
      "cell_type": "code",
      "execution_count": 4,
      "id": "cb8183f9",
      "metadata": {
        "id": "cb8183f9"
      },
      "outputs": [],
      "source": [
        "train_df = pd.read_csv('/content/drive/MyDrive/Retail Sales Prediction/df_train.csv', parse_dates=['Date'])"
      ]
    },
    {
      "cell_type": "code",
      "execution_count": 5,
      "id": "10c9d956",
      "metadata": {
        "id": "10c9d956"
      },
      "outputs": [],
      "source": [
        "test_df = pd.read_csv('/content/drive/MyDrive/Retail Sales Prediction/df_test.csv',parse_dates=['Date'])"
      ]
    },
    {
      "cell_type": "code",
      "source": [
        "#setting date and store as index\n",
        "train_df.set_index(['Date','Store'], inplace=True)\n",
        "train_df.sort_values(by=['Date','Store'], inplace=True)\n",
        "\n",
        "test_df.set_index(['Date','Store'], inplace=True)\n",
        "test_df.sort_values(by=['Date','Store'], inplace=True)"
      ],
      "metadata": {
        "id": "C5bFlCjKj_EM"
      },
      "id": "C5bFlCjKj_EM",
      "execution_count": 6,
      "outputs": []
    },
    {
      "cell_type": "code",
      "source": [
        "train_df.head(1)"
      ],
      "metadata": {
        "colab": {
          "base_uri": "https://localhost:8080/",
          "height": 193
        },
        "id": "iBXm-PTkokCm",
        "outputId": "d534fa06-b1d6-4d8e-e10b-be501fa1f148"
      },
      "id": "iBXm-PTkokCm",
      "execution_count": 7,
      "outputs": [
        {
          "output_type": "execute_result",
          "data": {
            "text/plain": [
              "                  DayOfWeek    Sales  Customers  Promo  StateHoliday  \\\n",
              "Date       Store                                                       \n",
              "2013-01-01 85             2  8.34759        619      0             1   \n",
              "\n",
              "                  SchoolHoliday StoreType Assortment  CompetitionDistance  \\\n",
              "Date       Store                                                            \n",
              "2013-01-01 85                 1         b          a               1870.0   \n",
              "\n",
              "                  Promo2  Year  Month  WeekOfYear  DayOfYear  CompetitionOpen  \\\n",
              "Date       Store                                                                \n",
              "2013-01-01 85          0  2013      1           1          1             15.0   \n",
              "\n",
              "                  Promo2Open  Promo2running  \n",
              "Date       Store                             \n",
              "2013-01-01 85            0.0              0  "
            ],
            "text/html": [
              "\n",
              "  <div id=\"df-8328399a-2ddf-4b09-a7dd-3a2744d42d4a\">\n",
              "    <div class=\"colab-df-container\">\n",
              "      <div>\n",
              "<style scoped>\n",
              "    .dataframe tbody tr th:only-of-type {\n",
              "        vertical-align: middle;\n",
              "    }\n",
              "\n",
              "    .dataframe tbody tr th {\n",
              "        vertical-align: top;\n",
              "    }\n",
              "\n",
              "    .dataframe thead th {\n",
              "        text-align: right;\n",
              "    }\n",
              "</style>\n",
              "<table border=\"1\" class=\"dataframe\">\n",
              "  <thead>\n",
              "    <tr style=\"text-align: right;\">\n",
              "      <th></th>\n",
              "      <th></th>\n",
              "      <th>DayOfWeek</th>\n",
              "      <th>Sales</th>\n",
              "      <th>Customers</th>\n",
              "      <th>Promo</th>\n",
              "      <th>StateHoliday</th>\n",
              "      <th>SchoolHoliday</th>\n",
              "      <th>StoreType</th>\n",
              "      <th>Assortment</th>\n",
              "      <th>CompetitionDistance</th>\n",
              "      <th>Promo2</th>\n",
              "      <th>Year</th>\n",
              "      <th>Month</th>\n",
              "      <th>WeekOfYear</th>\n",
              "      <th>DayOfYear</th>\n",
              "      <th>CompetitionOpen</th>\n",
              "      <th>Promo2Open</th>\n",
              "      <th>Promo2running</th>\n",
              "    </tr>\n",
              "    <tr>\n",
              "      <th>Date</th>\n",
              "      <th>Store</th>\n",
              "      <th></th>\n",
              "      <th></th>\n",
              "      <th></th>\n",
              "      <th></th>\n",
              "      <th></th>\n",
              "      <th></th>\n",
              "      <th></th>\n",
              "      <th></th>\n",
              "      <th></th>\n",
              "      <th></th>\n",
              "      <th></th>\n",
              "      <th></th>\n",
              "      <th></th>\n",
              "      <th></th>\n",
              "      <th></th>\n",
              "      <th></th>\n",
              "      <th></th>\n",
              "    </tr>\n",
              "  </thead>\n",
              "  <tbody>\n",
              "    <tr>\n",
              "      <th>2013-01-01</th>\n",
              "      <th>85</th>\n",
              "      <td>2</td>\n",
              "      <td>8.34759</td>\n",
              "      <td>619</td>\n",
              "      <td>0</td>\n",
              "      <td>1</td>\n",
              "      <td>1</td>\n",
              "      <td>b</td>\n",
              "      <td>a</td>\n",
              "      <td>1870.0</td>\n",
              "      <td>0</td>\n",
              "      <td>2013</td>\n",
              "      <td>1</td>\n",
              "      <td>1</td>\n",
              "      <td>1</td>\n",
              "      <td>15.0</td>\n",
              "      <td>0.0</td>\n",
              "      <td>0</td>\n",
              "    </tr>\n",
              "  </tbody>\n",
              "</table>\n",
              "</div>\n",
              "      <button class=\"colab-df-convert\" onclick=\"convertToInteractive('df-8328399a-2ddf-4b09-a7dd-3a2744d42d4a')\"\n",
              "              title=\"Convert this dataframe to an interactive table.\"\n",
              "              style=\"display:none;\">\n",
              "        \n",
              "  <svg xmlns=\"http://www.w3.org/2000/svg\" height=\"24px\"viewBox=\"0 0 24 24\"\n",
              "       width=\"24px\">\n",
              "    <path d=\"M0 0h24v24H0V0z\" fill=\"none\"/>\n",
              "    <path d=\"M18.56 5.44l.94 2.06.94-2.06 2.06-.94-2.06-.94-.94-2.06-.94 2.06-2.06.94zm-11 1L8.5 8.5l.94-2.06 2.06-.94-2.06-.94L8.5 2.5l-.94 2.06-2.06.94zm10 10l.94 2.06.94-2.06 2.06-.94-2.06-.94-.94-2.06-.94 2.06-2.06.94z\"/><path d=\"M17.41 7.96l-1.37-1.37c-.4-.4-.92-.59-1.43-.59-.52 0-1.04.2-1.43.59L10.3 9.45l-7.72 7.72c-.78.78-.78 2.05 0 2.83L4 21.41c.39.39.9.59 1.41.59.51 0 1.02-.2 1.41-.59l7.78-7.78 2.81-2.81c.8-.78.8-2.07 0-2.86zM5.41 20L4 18.59l7.72-7.72 1.47 1.35L5.41 20z\"/>\n",
              "  </svg>\n",
              "      </button>\n",
              "      \n",
              "  <style>\n",
              "    .colab-df-container {\n",
              "      display:flex;\n",
              "      flex-wrap:wrap;\n",
              "      gap: 12px;\n",
              "    }\n",
              "\n",
              "    .colab-df-convert {\n",
              "      background-color: #E8F0FE;\n",
              "      border: none;\n",
              "      border-radius: 50%;\n",
              "      cursor: pointer;\n",
              "      display: none;\n",
              "      fill: #1967D2;\n",
              "      height: 32px;\n",
              "      padding: 0 0 0 0;\n",
              "      width: 32px;\n",
              "    }\n",
              "\n",
              "    .colab-df-convert:hover {\n",
              "      background-color: #E2EBFA;\n",
              "      box-shadow: 0px 1px 2px rgba(60, 64, 67, 0.3), 0px 1px 3px 1px rgba(60, 64, 67, 0.15);\n",
              "      fill: #174EA6;\n",
              "    }\n",
              "\n",
              "    [theme=dark] .colab-df-convert {\n",
              "      background-color: #3B4455;\n",
              "      fill: #D2E3FC;\n",
              "    }\n",
              "\n",
              "    [theme=dark] .colab-df-convert:hover {\n",
              "      background-color: #434B5C;\n",
              "      box-shadow: 0px 1px 3px 1px rgba(0, 0, 0, 0.15);\n",
              "      filter: drop-shadow(0px 1px 2px rgba(0, 0, 0, 0.3));\n",
              "      fill: #FFFFFF;\n",
              "    }\n",
              "  </style>\n",
              "\n",
              "      <script>\n",
              "        const buttonEl =\n",
              "          document.querySelector('#df-8328399a-2ddf-4b09-a7dd-3a2744d42d4a button.colab-df-convert');\n",
              "        buttonEl.style.display =\n",
              "          google.colab.kernel.accessAllowed ? 'block' : 'none';\n",
              "\n",
              "        async function convertToInteractive(key) {\n",
              "          const element = document.querySelector('#df-8328399a-2ddf-4b09-a7dd-3a2744d42d4a');\n",
              "          const dataTable =\n",
              "            await google.colab.kernel.invokeFunction('convertToInteractive',\n",
              "                                                     [key], {});\n",
              "          if (!dataTable) return;\n",
              "\n",
              "          const docLinkHtml = 'Like what you see? Visit the ' +\n",
              "            '<a target=\"_blank\" href=https://colab.research.google.com/notebooks/data_table.ipynb>data table notebook</a>'\n",
              "            + ' to learn more about interactive tables.';\n",
              "          element.innerHTML = '';\n",
              "          dataTable['output_type'] = 'display_data';\n",
              "          await google.colab.output.renderOutput(dataTable, element);\n",
              "          const docLink = document.createElement('div');\n",
              "          docLink.innerHTML = docLinkHtml;\n",
              "          element.appendChild(docLink);\n",
              "        }\n",
              "      </script>\n",
              "    </div>\n",
              "  </div>\n",
              "  "
            ]
          },
          "metadata": {},
          "execution_count": 7
        }
      ]
    },
    {
      "cell_type": "code",
      "source": [
        "train_df.columns"
      ],
      "metadata": {
        "colab": {
          "base_uri": "https://localhost:8080/"
        },
        "id": "lUV7N8MCt133",
        "outputId": "940e48ce-4628-4c8f-b040-beab7d10fd2b"
      },
      "id": "lUV7N8MCt133",
      "execution_count": 8,
      "outputs": [
        {
          "output_type": "execute_result",
          "data": {
            "text/plain": [
              "Index(['DayOfWeek', 'Sales', 'Customers', 'Promo', 'StateHoliday',\n",
              "       'SchoolHoliday', 'StoreType', 'Assortment', 'CompetitionDistance',\n",
              "       'Promo2', 'Year', 'Month', 'WeekOfYear', 'DayOfYear', 'CompetitionOpen',\n",
              "       'Promo2Open', 'Promo2running'],\n",
              "      dtype='object')"
            ]
          },
          "metadata": {},
          "execution_count": 8
        }
      ]
    },
    {
      "cell_type": "code",
      "source": [
        "test_df.head(1)"
      ],
      "metadata": {
        "colab": {
          "base_uri": "https://localhost:8080/",
          "height": 193
        },
        "id": "iCQckuB2r2_f",
        "outputId": "dd2ee04a-af08-4a78-ace8-8a4e41eb89f5"
      },
      "id": "iCQckuB2r2_f",
      "execution_count": 9,
      "outputs": [
        {
          "output_type": "execute_result",
          "data": {
            "text/plain": [
              "                  DayOfWeek     Sales  Customers  Promo  StateHoliday  \\\n",
              "Date       Store                                                        \n",
              "2015-06-15 1              1  8.615771        586      1             0   \n",
              "\n",
              "                  SchoolHoliday StoreType Assortment  CompetitionDistance  \\\n",
              "Date       Store                                                            \n",
              "2015-06-15 1                  0         c          a               1270.0   \n",
              "\n",
              "                  Promo2  Year  Month  WeekOfYear  DayOfYear  CompetitionOpen  \\\n",
              "Date       Store                                                                \n",
              "2015-06-15 1           0  2015      6          25        166             81.0   \n",
              "\n",
              "                  Promo2Open  Promo2running  \n",
              "Date       Store                             \n",
              "2015-06-15 1             0.0              0  "
            ],
            "text/html": [
              "\n",
              "  <div id=\"df-01eac02c-4235-4610-9c97-bb41c4aabeb3\">\n",
              "    <div class=\"colab-df-container\">\n",
              "      <div>\n",
              "<style scoped>\n",
              "    .dataframe tbody tr th:only-of-type {\n",
              "        vertical-align: middle;\n",
              "    }\n",
              "\n",
              "    .dataframe tbody tr th {\n",
              "        vertical-align: top;\n",
              "    }\n",
              "\n",
              "    .dataframe thead th {\n",
              "        text-align: right;\n",
              "    }\n",
              "</style>\n",
              "<table border=\"1\" class=\"dataframe\">\n",
              "  <thead>\n",
              "    <tr style=\"text-align: right;\">\n",
              "      <th></th>\n",
              "      <th></th>\n",
              "      <th>DayOfWeek</th>\n",
              "      <th>Sales</th>\n",
              "      <th>Customers</th>\n",
              "      <th>Promo</th>\n",
              "      <th>StateHoliday</th>\n",
              "      <th>SchoolHoliday</th>\n",
              "      <th>StoreType</th>\n",
              "      <th>Assortment</th>\n",
              "      <th>CompetitionDistance</th>\n",
              "      <th>Promo2</th>\n",
              "      <th>Year</th>\n",
              "      <th>Month</th>\n",
              "      <th>WeekOfYear</th>\n",
              "      <th>DayOfYear</th>\n",
              "      <th>CompetitionOpen</th>\n",
              "      <th>Promo2Open</th>\n",
              "      <th>Promo2running</th>\n",
              "    </tr>\n",
              "    <tr>\n",
              "      <th>Date</th>\n",
              "      <th>Store</th>\n",
              "      <th></th>\n",
              "      <th></th>\n",
              "      <th></th>\n",
              "      <th></th>\n",
              "      <th></th>\n",
              "      <th></th>\n",
              "      <th></th>\n",
              "      <th></th>\n",
              "      <th></th>\n",
              "      <th></th>\n",
              "      <th></th>\n",
              "      <th></th>\n",
              "      <th></th>\n",
              "      <th></th>\n",
              "      <th></th>\n",
              "      <th></th>\n",
              "      <th></th>\n",
              "    </tr>\n",
              "  </thead>\n",
              "  <tbody>\n",
              "    <tr>\n",
              "      <th>2015-06-15</th>\n",
              "      <th>1</th>\n",
              "      <td>1</td>\n",
              "      <td>8.615771</td>\n",
              "      <td>586</td>\n",
              "      <td>1</td>\n",
              "      <td>0</td>\n",
              "      <td>0</td>\n",
              "      <td>c</td>\n",
              "      <td>a</td>\n",
              "      <td>1270.0</td>\n",
              "      <td>0</td>\n",
              "      <td>2015</td>\n",
              "      <td>6</td>\n",
              "      <td>25</td>\n",
              "      <td>166</td>\n",
              "      <td>81.0</td>\n",
              "      <td>0.0</td>\n",
              "      <td>0</td>\n",
              "    </tr>\n",
              "  </tbody>\n",
              "</table>\n",
              "</div>\n",
              "      <button class=\"colab-df-convert\" onclick=\"convertToInteractive('df-01eac02c-4235-4610-9c97-bb41c4aabeb3')\"\n",
              "              title=\"Convert this dataframe to an interactive table.\"\n",
              "              style=\"display:none;\">\n",
              "        \n",
              "  <svg xmlns=\"http://www.w3.org/2000/svg\" height=\"24px\"viewBox=\"0 0 24 24\"\n",
              "       width=\"24px\">\n",
              "    <path d=\"M0 0h24v24H0V0z\" fill=\"none\"/>\n",
              "    <path d=\"M18.56 5.44l.94 2.06.94-2.06 2.06-.94-2.06-.94-.94-2.06-.94 2.06-2.06.94zm-11 1L8.5 8.5l.94-2.06 2.06-.94-2.06-.94L8.5 2.5l-.94 2.06-2.06.94zm10 10l.94 2.06.94-2.06 2.06-.94-2.06-.94-.94-2.06-.94 2.06-2.06.94z\"/><path d=\"M17.41 7.96l-1.37-1.37c-.4-.4-.92-.59-1.43-.59-.52 0-1.04.2-1.43.59L10.3 9.45l-7.72 7.72c-.78.78-.78 2.05 0 2.83L4 21.41c.39.39.9.59 1.41.59.51 0 1.02-.2 1.41-.59l7.78-7.78 2.81-2.81c.8-.78.8-2.07 0-2.86zM5.41 20L4 18.59l7.72-7.72 1.47 1.35L5.41 20z\"/>\n",
              "  </svg>\n",
              "      </button>\n",
              "      \n",
              "  <style>\n",
              "    .colab-df-container {\n",
              "      display:flex;\n",
              "      flex-wrap:wrap;\n",
              "      gap: 12px;\n",
              "    }\n",
              "\n",
              "    .colab-df-convert {\n",
              "      background-color: #E8F0FE;\n",
              "      border: none;\n",
              "      border-radius: 50%;\n",
              "      cursor: pointer;\n",
              "      display: none;\n",
              "      fill: #1967D2;\n",
              "      height: 32px;\n",
              "      padding: 0 0 0 0;\n",
              "      width: 32px;\n",
              "    }\n",
              "\n",
              "    .colab-df-convert:hover {\n",
              "      background-color: #E2EBFA;\n",
              "      box-shadow: 0px 1px 2px rgba(60, 64, 67, 0.3), 0px 1px 3px 1px rgba(60, 64, 67, 0.15);\n",
              "      fill: #174EA6;\n",
              "    }\n",
              "\n",
              "    [theme=dark] .colab-df-convert {\n",
              "      background-color: #3B4455;\n",
              "      fill: #D2E3FC;\n",
              "    }\n",
              "\n",
              "    [theme=dark] .colab-df-convert:hover {\n",
              "      background-color: #434B5C;\n",
              "      box-shadow: 0px 1px 3px 1px rgba(0, 0, 0, 0.15);\n",
              "      filter: drop-shadow(0px 1px 2px rgba(0, 0, 0, 0.3));\n",
              "      fill: #FFFFFF;\n",
              "    }\n",
              "  </style>\n",
              "\n",
              "      <script>\n",
              "        const buttonEl =\n",
              "          document.querySelector('#df-01eac02c-4235-4610-9c97-bb41c4aabeb3 button.colab-df-convert');\n",
              "        buttonEl.style.display =\n",
              "          google.colab.kernel.accessAllowed ? 'block' : 'none';\n",
              "\n",
              "        async function convertToInteractive(key) {\n",
              "          const element = document.querySelector('#df-01eac02c-4235-4610-9c97-bb41c4aabeb3');\n",
              "          const dataTable =\n",
              "            await google.colab.kernel.invokeFunction('convertToInteractive',\n",
              "                                                     [key], {});\n",
              "          if (!dataTable) return;\n",
              "\n",
              "          const docLinkHtml = 'Like what you see? Visit the ' +\n",
              "            '<a target=\"_blank\" href=https://colab.research.google.com/notebooks/data_table.ipynb>data table notebook</a>'\n",
              "            + ' to learn more about interactive tables.';\n",
              "          element.innerHTML = '';\n",
              "          dataTable['output_type'] = 'display_data';\n",
              "          await google.colab.output.renderOutput(dataTable, element);\n",
              "          const docLink = document.createElement('div');\n",
              "          docLink.innerHTML = docLinkHtml;\n",
              "          element.appendChild(docLink);\n",
              "        }\n",
              "      </script>\n",
              "    </div>\n",
              "  </div>\n",
              "  "
            ]
          },
          "metadata": {},
          "execution_count": 9
        }
      ]
    },
    {
      "cell_type": "markdown",
      "id": "7189dfac",
      "metadata": {
        "id": "7189dfac"
      },
      "source": [
        "## Test-Train-Split"
      ]
    },
    {
      "cell_type": "code",
      "execution_count": 10,
      "id": "4aa8691b",
      "metadata": {
        "id": "4aa8691b"
      },
      "outputs": [],
      "source": [
        "# dividing train df into train_x and train_y \n",
        "X_train = train_df.drop('Sales', axis=1)\n",
        "y_train = train_df[['Sales']]\n",
        "\n",
        "#dividing test df into test_x and test_y\n",
        "X_test = test_df.drop(\"Sales\", axis=1)\n",
        "y_test = test_df[['Sales']]"
      ]
    },
    {
      "cell_type": "markdown",
      "id": "f63335e3",
      "metadata": {
        "id": "f63335e3"
      },
      "source": [
        "One Hot Encoding of categorical columns to conver them into numerical columns"
      ]
    },
    {
      "cell_type": "code",
      "execution_count": 11,
      "id": "3097d1a0",
      "metadata": {
        "id": "3097d1a0"
      },
      "outputs": [],
      "source": [
        "# making a list of categorical columns\n",
        "Categorical_columns = ['DayOfWeek','StoreType','Assortment']"
      ]
    },
    {
      "cell_type": "code",
      "execution_count": 12,
      "id": "86c59229",
      "metadata": {
        "id": "86c59229"
      },
      "outputs": [],
      "source": [
        "# assigning one hot encoder\n",
        "enc = OneHotEncoder(sparse=False)"
      ]
    },
    {
      "cell_type": "code",
      "execution_count": 13,
      "id": "e48c3286",
      "metadata": {
        "colab": {
          "base_uri": "https://localhost:8080/"
        },
        "id": "e48c3286",
        "outputId": "ce17b2ee-fbfc-4df7-dc1d-775dc8043f12"
      },
      "outputs": [
        {
          "output_type": "execute_result",
          "data": {
            "text/plain": [
              "OneHotEncoder(sparse=False)"
            ]
          },
          "metadata": {},
          "execution_count": 13
        }
      ],
      "source": [
        "enc.fit(X_train[Categorical_columns])"
      ]
    },
    {
      "cell_type": "code",
      "execution_count": 14,
      "id": "a0c04ad8",
      "metadata": {
        "id": "a0c04ad8"
      },
      "outputs": [],
      "source": [
        "# getting a new list of encoded columns from Categorical_columns in train data\n",
        "encoded_cols = enc.get_feature_names(Categorical_columns).tolist()"
      ]
    },
    {
      "cell_type": "code",
      "execution_count": 15,
      "id": "1b3ff2a5",
      "metadata": {
        "colab": {
          "base_uri": "https://localhost:8080/"
        },
        "id": "1b3ff2a5",
        "outputId": "64e852c9-4c99-44c3-a19f-338f7ab434ee"
      },
      "outputs": [
        {
          "output_type": "execute_result",
          "data": {
            "text/plain": [
              "['DayOfWeek_1',\n",
              " 'DayOfWeek_2',\n",
              " 'DayOfWeek_3',\n",
              " 'DayOfWeek_4',\n",
              " 'DayOfWeek_5',\n",
              " 'DayOfWeek_6',\n",
              " 'DayOfWeek_7',\n",
              " 'StoreType_a',\n",
              " 'StoreType_b',\n",
              " 'StoreType_c',\n",
              " 'StoreType_d',\n",
              " 'Assortment_a',\n",
              " 'Assortment_b',\n",
              " 'Assortment_c']"
            ]
          },
          "metadata": {},
          "execution_count": 15
        }
      ],
      "source": [
        "encoded_cols"
      ]
    },
    {
      "cell_type": "code",
      "execution_count": 16,
      "id": "09e434be",
      "metadata": {
        "id": "09e434be"
      },
      "outputs": [],
      "source": [
        "#performing transformation on training data and creating new features for encoded columns\n",
        "X_train[encoded_cols] = enc.transform(X_train[Categorical_columns])"
      ]
    },
    {
      "cell_type": "code",
      "execution_count": 17,
      "id": "89aef905",
      "metadata": {
        "id": "89aef905"
      },
      "outputs": [],
      "source": [
        "#dropping old categorical columns from training data\n",
        "X_train.drop(Categorical_columns, axis=1, inplace=True)"
      ]
    },
    {
      "cell_type": "code",
      "execution_count": 18,
      "id": "20706c5a",
      "metadata": {
        "id": "20706c5a"
      },
      "outputs": [],
      "source": [
        "#performing transformation on testing data and creating new features for encoded columns\n",
        "X_test[encoded_cols] = enc.transform(X_test[Categorical_columns])"
      ]
    },
    {
      "cell_type": "code",
      "execution_count": 19,
      "id": "7c148f05",
      "metadata": {
        "id": "7c148f05"
      },
      "outputs": [],
      "source": [
        "#dropping old categorical columns from testing data\n",
        "X_test.drop(Categorical_columns, axis=1, inplace=True)"
      ]
    },
    {
      "cell_type": "code",
      "source": [
        "X_train.columns"
      ],
      "metadata": {
        "colab": {
          "base_uri": "https://localhost:8080/"
        },
        "id": "2BWcdlcdsCXw",
        "outputId": "2e466742-929f-46c7-a4f8-fff144b4771f"
      },
      "id": "2BWcdlcdsCXw",
      "execution_count": 20,
      "outputs": [
        {
          "output_type": "execute_result",
          "data": {
            "text/plain": [
              "Index(['Customers', 'Promo', 'StateHoliday', 'SchoolHoliday',\n",
              "       'CompetitionDistance', 'Promo2', 'Year', 'Month', 'WeekOfYear',\n",
              "       'DayOfYear', 'CompetitionOpen', 'Promo2Open', 'Promo2running',\n",
              "       'DayOfWeek_1', 'DayOfWeek_2', 'DayOfWeek_3', 'DayOfWeek_4',\n",
              "       'DayOfWeek_5', 'DayOfWeek_6', 'DayOfWeek_7', 'StoreType_a',\n",
              "       'StoreType_b', 'StoreType_c', 'StoreType_d', 'Assortment_a',\n",
              "       'Assortment_b', 'Assortment_c'],\n",
              "      dtype='object')"
            ]
          },
          "metadata": {},
          "execution_count": 20
        }
      ]
    },
    {
      "cell_type": "markdown",
      "source": [
        "### **Time for transformations in our data**"
      ],
      "metadata": {
        "id": "MPkfEB13shy3"
      },
      "id": "MPkfEB13shy3"
    },
    {
      "cell_type": "code",
      "source": [
        "from sklearn.preprocessing import StandardScaler\n",
        "scaler = StandardScaler()\n",
        "\n",
        "X_train[list(X_train.columns)] = scaler.fit_transform(X_train[list(X_train.columns)])\n",
        "X_test[list(X_test.columns)] = scaler.fit_transform(X_test[list(X_test.columns)])\n",
        "\n",
        "scaler = StandardScaler()\n",
        "y_train[list(y_train.columns)] = scaler.fit_transform(y_train[list(y_train.columns)])\n",
        "y_test[list(y_test.columns)] = scaler.transform(y_test[list(y_train.columns)])"
      ],
      "metadata": {
        "id": "bnqLqXj8smf3"
      },
      "id": "bnqLqXj8smf3",
      "execution_count": 21,
      "outputs": []
    },
    {
      "cell_type": "markdown",
      "source": [
        "## **XGBoost**\n",
        "Additionally trying xgboost to see if we can perform better on testing dataset"
      ],
      "metadata": {
        "id": "piBzDx059NXn"
      },
      "id": "piBzDx059NXn"
    },
    {
      "cell_type": "code",
      "source": [
        "# importing XGBoost\n",
        "import xgboost as xgb"
      ],
      "metadata": {
        "id": "q63mv2Cv9Y9J"
      },
      "id": "q63mv2Cv9Y9J",
      "execution_count": 23,
      "outputs": []
    },
    {
      "cell_type": "code",
      "source": [
        "# assigning variable for it\n",
        "xgb_reg = xgb.XGBRegressor(random_state=68)"
      ],
      "metadata": {
        "id": "3mK8qkmn9iUd"
      },
      "id": "3mK8qkmn9iUd",
      "execution_count": 24,
      "outputs": []
    },
    {
      "cell_type": "code",
      "source": [
        "# importing GridSearch CV \n",
        "from sklearn.model_selection import GridSearchCV"
      ],
      "metadata": {
        "id": "rLLkbcx49jqd"
      },
      "id": "rLLkbcx49jqd",
      "execution_count": 25,
      "outputs": []
    },
    {
      "cell_type": "code",
      "source": [
        "# assigning grid\n",
        "param_grid = {\"max_depth\":[4, 5],\n",
        "              \"n_estimators\":[100,150,None],\n",
        "              \"learning_rate\":[0.01, 0.015]}"
      ],
      "metadata": {
        "id": "7AZ5uKRi9m11"
      },
      "id": "7AZ5uKRi9m11",
      "execution_count": 26,
      "outputs": []
    },
    {
      "cell_type": "code",
      "source": [
        "#assigning variable to GridSearchCV\n",
        "search = GridSearchCV(xgb_reg, param_grid, cv=3)"
      ],
      "metadata": {
        "id": "pyEcl13b9qSW"
      },
      "id": "pyEcl13b9qSW",
      "execution_count": 27,
      "outputs": []
    },
    {
      "cell_type": "code",
      "source": [
        "search.fit(X_train, y_train)"
      ],
      "metadata": {
        "colab": {
          "base_uri": "https://localhost:8080/"
        },
        "id": "GvmD2i2B9tdx",
        "outputId": "a3fcd045-728c-4e64-f332-224c9bda7e20"
      },
      "id": "GvmD2i2B9tdx",
      "execution_count": 28,
      "outputs": [
        {
          "output_type": "stream",
          "name": "stdout",
          "text": [
            "[22:02:04] WARNING: /workspace/src/objective/regression_obj.cu:152: reg:linear is now deprecated in favor of reg:squarederror.\n",
            "[22:03:07] WARNING: /workspace/src/objective/regression_obj.cu:152: reg:linear is now deprecated in favor of reg:squarederror.\n",
            "[22:04:14] WARNING: /workspace/src/objective/regression_obj.cu:152: reg:linear is now deprecated in favor of reg:squarederror.\n",
            "[22:05:15] WARNING: /workspace/src/objective/regression_obj.cu:152: reg:linear is now deprecated in favor of reg:squarederror.\n",
            "[22:06:49] WARNING: /workspace/src/objective/regression_obj.cu:152: reg:linear is now deprecated in favor of reg:squarederror.\n",
            "[22:08:20] WARNING: /workspace/src/objective/regression_obj.cu:152: reg:linear is now deprecated in favor of reg:squarederror.\n",
            "[22:09:50] WARNING: /workspace/src/objective/regression_obj.cu:152: reg:linear is now deprecated in favor of reg:squarederror.\n",
            "[22:11:06] WARNING: /workspace/src/objective/regression_obj.cu:152: reg:linear is now deprecated in favor of reg:squarederror.\n",
            "[22:12:20] WARNING: /workspace/src/objective/regression_obj.cu:152: reg:linear is now deprecated in favor of reg:squarederror.\n",
            "[22:13:36] WARNING: /workspace/src/objective/regression_obj.cu:152: reg:linear is now deprecated in favor of reg:squarederror.\n",
            "[22:15:31] WARNING: /workspace/src/objective/regression_obj.cu:152: reg:linear is now deprecated in favor of reg:squarederror.\n",
            "[22:17:25] WARNING: /workspace/src/objective/regression_obj.cu:152: reg:linear is now deprecated in favor of reg:squarederror.\n",
            "[22:19:20] WARNING: /workspace/src/objective/regression_obj.cu:152: reg:linear is now deprecated in favor of reg:squarederror.\n",
            "[22:20:22] WARNING: /workspace/src/objective/regression_obj.cu:152: reg:linear is now deprecated in favor of reg:squarederror.\n",
            "[22:21:23] WARNING: /workspace/src/objective/regression_obj.cu:152: reg:linear is now deprecated in favor of reg:squarederror.\n",
            "[22:22:23] WARNING: /workspace/src/objective/regression_obj.cu:152: reg:linear is now deprecated in favor of reg:squarederror.\n",
            "[22:23:56] WARNING: /workspace/src/objective/regression_obj.cu:152: reg:linear is now deprecated in favor of reg:squarederror.\n",
            "[22:25:25] WARNING: /workspace/src/objective/regression_obj.cu:152: reg:linear is now deprecated in favor of reg:squarederror.\n",
            "[22:26:55] WARNING: /workspace/src/objective/regression_obj.cu:152: reg:linear is now deprecated in favor of reg:squarederror.\n",
            "[22:28:09] WARNING: /workspace/src/objective/regression_obj.cu:152: reg:linear is now deprecated in favor of reg:squarederror.\n",
            "[22:29:23] WARNING: /workspace/src/objective/regression_obj.cu:152: reg:linear is now deprecated in favor of reg:squarederror.\n",
            "[22:30:39] WARNING: /workspace/src/objective/regression_obj.cu:152: reg:linear is now deprecated in favor of reg:squarederror.\n",
            "[22:32:33] WARNING: /workspace/src/objective/regression_obj.cu:152: reg:linear is now deprecated in favor of reg:squarederror.\n",
            "[22:34:25] WARNING: /workspace/src/objective/regression_obj.cu:152: reg:linear is now deprecated in favor of reg:squarederror.\n",
            "[22:36:16] WARNING: /workspace/src/objective/regression_obj.cu:152: reg:linear is now deprecated in favor of reg:squarederror.\n"
          ]
        },
        {
          "output_type": "execute_result",
          "data": {
            "text/plain": [
              "GridSearchCV(cv=3, estimator=XGBRegressor(random_state=68),\n",
              "             param_grid={'learning_rate': [0.01, 0.015], 'max_depth': [4, 5],\n",
              "                         'n_estimators': [100, 150, None]})"
            ]
          },
          "metadata": {},
          "execution_count": 28
        }
      ]
    },
    {
      "cell_type": "code",
      "source": [
        "search.best_params_"
      ],
      "metadata": {
        "id": "UPepdLpg9yit",
        "colab": {
          "base_uri": "https://localhost:8080/"
        },
        "outputId": "12c99392-3450-4f23-9a7a-ca7a192a9475"
      },
      "id": "UPepdLpg9yit",
      "execution_count": 29,
      "outputs": [
        {
          "output_type": "execute_result",
          "data": {
            "text/plain": [
              "{'learning_rate': 0.015, 'max_depth': 5, 'n_estimators': 150}"
            ]
          },
          "metadata": {},
          "execution_count": 29
        }
      ]
    },
    {
      "cell_type": "code",
      "source": [
        "xgb_reg = xgb.XGBRegressor(learning_rate= 0.015, max_depth=5, n_estimators= 150, random_state=68)"
      ],
      "metadata": {
        "id": "a-DYC3jhGtFT"
      },
      "id": "a-DYC3jhGtFT",
      "execution_count": 34,
      "outputs": []
    },
    {
      "cell_type": "code",
      "source": [
        "xgb_reg.fit(X_train,y_train)"
      ],
      "metadata": {
        "colab": {
          "base_uri": "https://localhost:8080/"
        },
        "id": "1QoyfJuRKRTJ",
        "outputId": "d3b0b6d6-380f-4206-b7c0-f2cd71fb8de0"
      },
      "id": "1QoyfJuRKRTJ",
      "execution_count": 35,
      "outputs": [
        {
          "output_type": "stream",
          "name": "stdout",
          "text": [
            "[22:43:14] WARNING: /workspace/src/objective/regression_obj.cu:152: reg:linear is now deprecated in favor of reg:squarederror.\n"
          ]
        },
        {
          "output_type": "execute_result",
          "data": {
            "text/plain": [
              "XGBRegressor(learning_rate=0.015, max_depth=5, n_estimators=150,\n",
              "             random_state=68)"
            ]
          },
          "metadata": {},
          "execution_count": 35
        }
      ]
    },
    {
      "cell_type": "code",
      "source": [
        "y_pred_train=xgb_reg.predict(X_train)"
      ],
      "metadata": {
        "id": "8ACGmBoA9zHv"
      },
      "id": "8ACGmBoA9zHv",
      "execution_count": 36,
      "outputs": []
    },
    {
      "cell_type": "code",
      "source": [
        "y_pred_test=xgb_reg.predict(X_test)"
      ],
      "metadata": {
        "id": "goJfObfx98UG"
      },
      "id": "goJfObfx98UG",
      "execution_count": 37,
      "outputs": []
    },
    {
      "cell_type": "code",
      "source": [
        "# printing evaluation matrices for our model\n",
        "print(f'r2_score for training data is {r2_score(y_pred_train,y_train)}')\n",
        "print(f'r2_score for testing data is {r2_score(y_pred_test,y_test)}')\n",
        "\n",
        "print(f'Adjusted r2_score for training data is {round(1 - (1-r2_score(y_train, y_pred_train)) * (len(y_train)-1)/(len(y_train)-X_train.shape[1]-1),6)}')\n",
        "print(f'Adjusted r2_score for testing data is {round(1 - (1-r2_score(y_test, y_pred_test)) * (len(y_test)-1)/(len(y_test)-X_test.shape[1]-1),6)}')\n",
        "\n",
        "print(f'Mean Absolute Error for training data is {mean_absolute_error(y_pred_train,y_train)}')\n",
        "print(f'Mean Absolute Error for testing data is {mean_absolute_error(y_pred_test,y_test)}')\n",
        "\n",
        "print(f'Mean Squared Error for training data is {mean_squared_error(y_pred_train,y_train)}')\n",
        "print(f'Mean Squared Error for testing data is {mean_squared_error(y_pred_test,y_test)}')\n",
        "\n",
        "print(f'root Mean Squared Error for training data is {(mean_squared_error(y_pred_train,y_train))**0.5}')\n",
        "print(f'root Mean Squared Error for testing data is {(mean_squared_error(y_pred_test,y_test))**0.5}')\n",
        "\n",
        "\n"
      ],
      "metadata": {
        "id": "QVAUqSbiEbQj",
        "colab": {
          "base_uri": "https://localhost:8080/"
        },
        "outputId": "56a56cb9-43e9-47ce-b328-f1b03d3298db"
      },
      "id": "QVAUqSbiEbQj",
      "execution_count": 38,
      "outputs": [
        {
          "output_type": "stream",
          "name": "stdout",
          "text": [
            "r2_score for training data is 0.7791871087051665\n",
            "r2_score for testing data is 0.7714000899632978\n",
            "Adjusted r2_score for training data is 0.857216\n",
            "Adjusted r2_score for testing data is 0.851248\n",
            "Mean Absolute Error for training data is 0.2985578982514212\n",
            "Mean Absolute Error for testing data is 0.29644968830022556\n",
            "Mean Squared Error for training data is 0.14277883891376167\n",
            "Mean Squared Error for testing data is 0.14003768897104113\n",
            "root Mean Squared Error for training data is 0.3778608724302659\n",
            "root Mean Squared Error for testing data is 0.37421609929429966\n"
          ]
        }
      ]
    },
    {
      "cell_type": "markdown",
      "source": [
        "XGBoost model tends to be underfit model with accuracy of 77% on Train data as well as Test data."
      ],
      "metadata": {
        "id": "ShcTzZhG5NOu"
      },
      "id": "ShcTzZhG5NOu"
    }
  ],
  "metadata": {
    "kernelspec": {
      "display_name": "Python 3 (ipykernel)",
      "language": "python",
      "name": "python3"
    },
    "language_info": {
      "codemirror_mode": {
        "name": "ipython",
        "version": 3
      },
      "file_extension": ".py",
      "mimetype": "text/x-python",
      "name": "python",
      "nbconvert_exporter": "python",
      "pygments_lexer": "ipython3",
      "version": "3.9.12"
    },
    "colab": {
      "provenance": [],
      "include_colab_link": true
    }
  },
  "nbformat": 4,
  "nbformat_minor": 5
}