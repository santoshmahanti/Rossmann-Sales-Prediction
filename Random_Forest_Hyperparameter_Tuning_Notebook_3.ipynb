{
  "cells": [
    {
      "cell_type": "markdown",
      "metadata": {
        "id": "view-in-github",
        "colab_type": "text"
      },
      "source": [
        "<a href=\"https://colab.research.google.com/github/santoshmahanti/Rossmann-Sales-Prediction/blob/main/Random_Forest_Hyperparameter_Tuning_Notebook_3.ipynb\" target=\"_parent\"><img src=\"https://colab.research.google.com/assets/colab-badge.svg\" alt=\"Open In Colab\"/></a>"
      ]
    },
    {
      "cell_type": "code",
      "execution_count": 32,
      "id": "5b1e50e0",
      "metadata": {
        "id": "5b1e50e0"
      },
      "outputs": [],
      "source": [
        "#importing necessary libraries\n",
        "import numpy as np\n",
        "import pandas as pd\n",
        "import matplotlib.pyplot as plt\n",
        "import seaborn as sns\n",
        "%matplotlib inline\n",
        "from datetime import datetime\n",
        "\n",
        "from sklearn.preprocessing import MinMaxScaler\n",
        "from sklearn.model_selection import train_test_split\n",
        "from sklearn.linear_model import LinearRegression\n",
        "from sklearn.metrics import r2_score\n",
        "from sklearn.metrics import mean_squared_error\n",
        "from sklearn.preprocessing import OneHotEncoder\n",
        "import math\n",
        "\n",
        "\n",
        "import warnings    \n",
        "warnings.filterwarnings('ignore')"
      ]
    },
    {
      "cell_type": "code",
      "source": [
        "from google.colab import drive\n",
        "drive.mount('/content/drive')"
      ],
      "metadata": {
        "colab": {
          "base_uri": "https://localhost:8080/"
        },
        "id": "IniVlW-v7VCF",
        "outputId": "f11536f5-0fdf-4cd1-b43b-fe711056b171"
      },
      "id": "IniVlW-v7VCF",
      "execution_count": 2,
      "outputs": [
        {
          "output_type": "stream",
          "name": "stdout",
          "text": [
            "Mounted at /content/drive\n"
          ]
        }
      ]
    },
    {
      "cell_type": "code",
      "execution_count": 3,
      "id": "cb8183f9",
      "metadata": {
        "id": "cb8183f9"
      },
      "outputs": [],
      "source": [
        "train_df = pd.read_csv('/content/drive/MyDrive/Retail Sales Prediction/df_train.csv', parse_dates=['Date'])"
      ]
    },
    {
      "cell_type": "code",
      "execution_count": 4,
      "id": "10c9d956",
      "metadata": {
        "id": "10c9d956"
      },
      "outputs": [],
      "source": [
        "test_df = pd.read_csv('/content/drive/MyDrive/Retail Sales Prediction/df_test.csv',parse_dates=['Date'])"
      ]
    },
    {
      "cell_type": "code",
      "source": [
        "#setting date and store as index\n",
        "train_df.set_index(['Date','Store'], inplace=True)\n",
        "train_df.sort_values(by=['Date','Store'], inplace=True)\n",
        "\n",
        "test_df.set_index(['Date','Store'], inplace=True)\n",
        "test_df.sort_values(by=['Date','Store'], inplace=True)"
      ],
      "metadata": {
        "id": "C5bFlCjKj_EM"
      },
      "id": "C5bFlCjKj_EM",
      "execution_count": 5,
      "outputs": []
    },
    {
      "cell_type": "code",
      "source": [
        "train_df.head(1)"
      ],
      "metadata": {
        "colab": {
          "base_uri": "https://localhost:8080/",
          "height": 193
        },
        "id": "iBXm-PTkokCm",
        "outputId": "c7dfcfe5-8dcb-4c1b-f6a7-debba29150e4"
      },
      "id": "iBXm-PTkokCm",
      "execution_count": 6,
      "outputs": [
        {
          "output_type": "execute_result",
          "data": {
            "text/plain": [
              "                  DayOfWeek    Sales  Customers  Promo  StateHoliday  \\\n",
              "Date       Store                                                       \n",
              "2013-01-01 85             2  8.34759        619      0             1   \n",
              "\n",
              "                  SchoolHoliday StoreType Assortment  CompetitionDistance  \\\n",
              "Date       Store                                                            \n",
              "2013-01-01 85                 1         b          a               1870.0   \n",
              "\n",
              "                  Promo2  Year  Month  WeekOfYear  DayOfYear  CompetitionOpen  \\\n",
              "Date       Store                                                                \n",
              "2013-01-01 85          0  2013      1           1          1             15.0   \n",
              "\n",
              "                  Promo2Open  Promo2running  \n",
              "Date       Store                             \n",
              "2013-01-01 85            0.0              0  "
            ],
            "text/html": [
              "\n",
              "  <div id=\"df-ac0bcadf-de9a-4dbc-ad89-50915ac78cea\">\n",
              "    <div class=\"colab-df-container\">\n",
              "      <div>\n",
              "<style scoped>\n",
              "    .dataframe tbody tr th:only-of-type {\n",
              "        vertical-align: middle;\n",
              "    }\n",
              "\n",
              "    .dataframe tbody tr th {\n",
              "        vertical-align: top;\n",
              "    }\n",
              "\n",
              "    .dataframe thead th {\n",
              "        text-align: right;\n",
              "    }\n",
              "</style>\n",
              "<table border=\"1\" class=\"dataframe\">\n",
              "  <thead>\n",
              "    <tr style=\"text-align: right;\">\n",
              "      <th></th>\n",
              "      <th></th>\n",
              "      <th>DayOfWeek</th>\n",
              "      <th>Sales</th>\n",
              "      <th>Customers</th>\n",
              "      <th>Promo</th>\n",
              "      <th>StateHoliday</th>\n",
              "      <th>SchoolHoliday</th>\n",
              "      <th>StoreType</th>\n",
              "      <th>Assortment</th>\n",
              "      <th>CompetitionDistance</th>\n",
              "      <th>Promo2</th>\n",
              "      <th>Year</th>\n",
              "      <th>Month</th>\n",
              "      <th>WeekOfYear</th>\n",
              "      <th>DayOfYear</th>\n",
              "      <th>CompetitionOpen</th>\n",
              "      <th>Promo2Open</th>\n",
              "      <th>Promo2running</th>\n",
              "    </tr>\n",
              "    <tr>\n",
              "      <th>Date</th>\n",
              "      <th>Store</th>\n",
              "      <th></th>\n",
              "      <th></th>\n",
              "      <th></th>\n",
              "      <th></th>\n",
              "      <th></th>\n",
              "      <th></th>\n",
              "      <th></th>\n",
              "      <th></th>\n",
              "      <th></th>\n",
              "      <th></th>\n",
              "      <th></th>\n",
              "      <th></th>\n",
              "      <th></th>\n",
              "      <th></th>\n",
              "      <th></th>\n",
              "      <th></th>\n",
              "      <th></th>\n",
              "    </tr>\n",
              "  </thead>\n",
              "  <tbody>\n",
              "    <tr>\n",
              "      <th>2013-01-01</th>\n",
              "      <th>85</th>\n",
              "      <td>2</td>\n",
              "      <td>8.34759</td>\n",
              "      <td>619</td>\n",
              "      <td>0</td>\n",
              "      <td>1</td>\n",
              "      <td>1</td>\n",
              "      <td>b</td>\n",
              "      <td>a</td>\n",
              "      <td>1870.0</td>\n",
              "      <td>0</td>\n",
              "      <td>2013</td>\n",
              "      <td>1</td>\n",
              "      <td>1</td>\n",
              "      <td>1</td>\n",
              "      <td>15.0</td>\n",
              "      <td>0.0</td>\n",
              "      <td>0</td>\n",
              "    </tr>\n",
              "  </tbody>\n",
              "</table>\n",
              "</div>\n",
              "      <button class=\"colab-df-convert\" onclick=\"convertToInteractive('df-ac0bcadf-de9a-4dbc-ad89-50915ac78cea')\"\n",
              "              title=\"Convert this dataframe to an interactive table.\"\n",
              "              style=\"display:none;\">\n",
              "        \n",
              "  <svg xmlns=\"http://www.w3.org/2000/svg\" height=\"24px\"viewBox=\"0 0 24 24\"\n",
              "       width=\"24px\">\n",
              "    <path d=\"M0 0h24v24H0V0z\" fill=\"none\"/>\n",
              "    <path d=\"M18.56 5.44l.94 2.06.94-2.06 2.06-.94-2.06-.94-.94-2.06-.94 2.06-2.06.94zm-11 1L8.5 8.5l.94-2.06 2.06-.94-2.06-.94L8.5 2.5l-.94 2.06-2.06.94zm10 10l.94 2.06.94-2.06 2.06-.94-2.06-.94-.94-2.06-.94 2.06-2.06.94z\"/><path d=\"M17.41 7.96l-1.37-1.37c-.4-.4-.92-.59-1.43-.59-.52 0-1.04.2-1.43.59L10.3 9.45l-7.72 7.72c-.78.78-.78 2.05 0 2.83L4 21.41c.39.39.9.59 1.41.59.51 0 1.02-.2 1.41-.59l7.78-7.78 2.81-2.81c.8-.78.8-2.07 0-2.86zM5.41 20L4 18.59l7.72-7.72 1.47 1.35L5.41 20z\"/>\n",
              "  </svg>\n",
              "      </button>\n",
              "      \n",
              "  <style>\n",
              "    .colab-df-container {\n",
              "      display:flex;\n",
              "      flex-wrap:wrap;\n",
              "      gap: 12px;\n",
              "    }\n",
              "\n",
              "    .colab-df-convert {\n",
              "      background-color: #E8F0FE;\n",
              "      border: none;\n",
              "      border-radius: 50%;\n",
              "      cursor: pointer;\n",
              "      display: none;\n",
              "      fill: #1967D2;\n",
              "      height: 32px;\n",
              "      padding: 0 0 0 0;\n",
              "      width: 32px;\n",
              "    }\n",
              "\n",
              "    .colab-df-convert:hover {\n",
              "      background-color: #E2EBFA;\n",
              "      box-shadow: 0px 1px 2px rgba(60, 64, 67, 0.3), 0px 1px 3px 1px rgba(60, 64, 67, 0.15);\n",
              "      fill: #174EA6;\n",
              "    }\n",
              "\n",
              "    [theme=dark] .colab-df-convert {\n",
              "      background-color: #3B4455;\n",
              "      fill: #D2E3FC;\n",
              "    }\n",
              "\n",
              "    [theme=dark] .colab-df-convert:hover {\n",
              "      background-color: #434B5C;\n",
              "      box-shadow: 0px 1px 3px 1px rgba(0, 0, 0, 0.15);\n",
              "      filter: drop-shadow(0px 1px 2px rgba(0, 0, 0, 0.3));\n",
              "      fill: #FFFFFF;\n",
              "    }\n",
              "  </style>\n",
              "\n",
              "      <script>\n",
              "        const buttonEl =\n",
              "          document.querySelector('#df-ac0bcadf-de9a-4dbc-ad89-50915ac78cea button.colab-df-convert');\n",
              "        buttonEl.style.display =\n",
              "          google.colab.kernel.accessAllowed ? 'block' : 'none';\n",
              "\n",
              "        async function convertToInteractive(key) {\n",
              "          const element = document.querySelector('#df-ac0bcadf-de9a-4dbc-ad89-50915ac78cea');\n",
              "          const dataTable =\n",
              "            await google.colab.kernel.invokeFunction('convertToInteractive',\n",
              "                                                     [key], {});\n",
              "          if (!dataTable) return;\n",
              "\n",
              "          const docLinkHtml = 'Like what you see? Visit the ' +\n",
              "            '<a target=\"_blank\" href=https://colab.research.google.com/notebooks/data_table.ipynb>data table notebook</a>'\n",
              "            + ' to learn more about interactive tables.';\n",
              "          element.innerHTML = '';\n",
              "          dataTable['output_type'] = 'display_data';\n",
              "          await google.colab.output.renderOutput(dataTable, element);\n",
              "          const docLink = document.createElement('div');\n",
              "          docLink.innerHTML = docLinkHtml;\n",
              "          element.appendChild(docLink);\n",
              "        }\n",
              "      </script>\n",
              "    </div>\n",
              "  </div>\n",
              "  "
            ]
          },
          "metadata": {},
          "execution_count": 6
        }
      ]
    },
    {
      "cell_type": "code",
      "source": [
        "train_df.columns"
      ],
      "metadata": {
        "colab": {
          "base_uri": "https://localhost:8080/"
        },
        "id": "lUV7N8MCt133",
        "outputId": "36c081ea-da6c-47ae-b0e8-86dc06b4683e"
      },
      "id": "lUV7N8MCt133",
      "execution_count": 7,
      "outputs": [
        {
          "output_type": "execute_result",
          "data": {
            "text/plain": [
              "Index(['DayOfWeek', 'Sales', 'Customers', 'Promo', 'StateHoliday',\n",
              "       'SchoolHoliday', 'StoreType', 'Assortment', 'CompetitionDistance',\n",
              "       'Promo2', 'Year', 'Month', 'WeekOfYear', 'DayOfYear', 'CompetitionOpen',\n",
              "       'Promo2Open', 'Promo2running'],\n",
              "      dtype='object')"
            ]
          },
          "metadata": {},
          "execution_count": 7
        }
      ]
    },
    {
      "cell_type": "code",
      "source": [
        "test_df.head(1)"
      ],
      "metadata": {
        "colab": {
          "base_uri": "https://localhost:8080/",
          "height": 193
        },
        "id": "iCQckuB2r2_f",
        "outputId": "64f80979-4679-4cff-84c2-e69757f1115a"
      },
      "id": "iCQckuB2r2_f",
      "execution_count": 8,
      "outputs": [
        {
          "output_type": "execute_result",
          "data": {
            "text/plain": [
              "                  DayOfWeek     Sales  Customers  Promo  StateHoliday  \\\n",
              "Date       Store                                                        \n",
              "2015-06-15 1              1  8.615771        586      1             0   \n",
              "\n",
              "                  SchoolHoliday StoreType Assortment  CompetitionDistance  \\\n",
              "Date       Store                                                            \n",
              "2015-06-15 1                  0         c          a               1270.0   \n",
              "\n",
              "                  Promo2  Year  Month  WeekOfYear  DayOfYear  CompetitionOpen  \\\n",
              "Date       Store                                                                \n",
              "2015-06-15 1           0  2015      6          25        166             81.0   \n",
              "\n",
              "                  Promo2Open  Promo2running  \n",
              "Date       Store                             \n",
              "2015-06-15 1             0.0              0  "
            ],
            "text/html": [
              "\n",
              "  <div id=\"df-4d95cc94-f470-45a7-a782-1679690e204b\">\n",
              "    <div class=\"colab-df-container\">\n",
              "      <div>\n",
              "<style scoped>\n",
              "    .dataframe tbody tr th:only-of-type {\n",
              "        vertical-align: middle;\n",
              "    }\n",
              "\n",
              "    .dataframe tbody tr th {\n",
              "        vertical-align: top;\n",
              "    }\n",
              "\n",
              "    .dataframe thead th {\n",
              "        text-align: right;\n",
              "    }\n",
              "</style>\n",
              "<table border=\"1\" class=\"dataframe\">\n",
              "  <thead>\n",
              "    <tr style=\"text-align: right;\">\n",
              "      <th></th>\n",
              "      <th></th>\n",
              "      <th>DayOfWeek</th>\n",
              "      <th>Sales</th>\n",
              "      <th>Customers</th>\n",
              "      <th>Promo</th>\n",
              "      <th>StateHoliday</th>\n",
              "      <th>SchoolHoliday</th>\n",
              "      <th>StoreType</th>\n",
              "      <th>Assortment</th>\n",
              "      <th>CompetitionDistance</th>\n",
              "      <th>Promo2</th>\n",
              "      <th>Year</th>\n",
              "      <th>Month</th>\n",
              "      <th>WeekOfYear</th>\n",
              "      <th>DayOfYear</th>\n",
              "      <th>CompetitionOpen</th>\n",
              "      <th>Promo2Open</th>\n",
              "      <th>Promo2running</th>\n",
              "    </tr>\n",
              "    <tr>\n",
              "      <th>Date</th>\n",
              "      <th>Store</th>\n",
              "      <th></th>\n",
              "      <th></th>\n",
              "      <th></th>\n",
              "      <th></th>\n",
              "      <th></th>\n",
              "      <th></th>\n",
              "      <th></th>\n",
              "      <th></th>\n",
              "      <th></th>\n",
              "      <th></th>\n",
              "      <th></th>\n",
              "      <th></th>\n",
              "      <th></th>\n",
              "      <th></th>\n",
              "      <th></th>\n",
              "      <th></th>\n",
              "      <th></th>\n",
              "    </tr>\n",
              "  </thead>\n",
              "  <tbody>\n",
              "    <tr>\n",
              "      <th>2015-06-15</th>\n",
              "      <th>1</th>\n",
              "      <td>1</td>\n",
              "      <td>8.615771</td>\n",
              "      <td>586</td>\n",
              "      <td>1</td>\n",
              "      <td>0</td>\n",
              "      <td>0</td>\n",
              "      <td>c</td>\n",
              "      <td>a</td>\n",
              "      <td>1270.0</td>\n",
              "      <td>0</td>\n",
              "      <td>2015</td>\n",
              "      <td>6</td>\n",
              "      <td>25</td>\n",
              "      <td>166</td>\n",
              "      <td>81.0</td>\n",
              "      <td>0.0</td>\n",
              "      <td>0</td>\n",
              "    </tr>\n",
              "  </tbody>\n",
              "</table>\n",
              "</div>\n",
              "      <button class=\"colab-df-convert\" onclick=\"convertToInteractive('df-4d95cc94-f470-45a7-a782-1679690e204b')\"\n",
              "              title=\"Convert this dataframe to an interactive table.\"\n",
              "              style=\"display:none;\">\n",
              "        \n",
              "  <svg xmlns=\"http://www.w3.org/2000/svg\" height=\"24px\"viewBox=\"0 0 24 24\"\n",
              "       width=\"24px\">\n",
              "    <path d=\"M0 0h24v24H0V0z\" fill=\"none\"/>\n",
              "    <path d=\"M18.56 5.44l.94 2.06.94-2.06 2.06-.94-2.06-.94-.94-2.06-.94 2.06-2.06.94zm-11 1L8.5 8.5l.94-2.06 2.06-.94-2.06-.94L8.5 2.5l-.94 2.06-2.06.94zm10 10l.94 2.06.94-2.06 2.06-.94-2.06-.94-.94-2.06-.94 2.06-2.06.94z\"/><path d=\"M17.41 7.96l-1.37-1.37c-.4-.4-.92-.59-1.43-.59-.52 0-1.04.2-1.43.59L10.3 9.45l-7.72 7.72c-.78.78-.78 2.05 0 2.83L4 21.41c.39.39.9.59 1.41.59.51 0 1.02-.2 1.41-.59l7.78-7.78 2.81-2.81c.8-.78.8-2.07 0-2.86zM5.41 20L4 18.59l7.72-7.72 1.47 1.35L5.41 20z\"/>\n",
              "  </svg>\n",
              "      </button>\n",
              "      \n",
              "  <style>\n",
              "    .colab-df-container {\n",
              "      display:flex;\n",
              "      flex-wrap:wrap;\n",
              "      gap: 12px;\n",
              "    }\n",
              "\n",
              "    .colab-df-convert {\n",
              "      background-color: #E8F0FE;\n",
              "      border: none;\n",
              "      border-radius: 50%;\n",
              "      cursor: pointer;\n",
              "      display: none;\n",
              "      fill: #1967D2;\n",
              "      height: 32px;\n",
              "      padding: 0 0 0 0;\n",
              "      width: 32px;\n",
              "    }\n",
              "\n",
              "    .colab-df-convert:hover {\n",
              "      background-color: #E2EBFA;\n",
              "      box-shadow: 0px 1px 2px rgba(60, 64, 67, 0.3), 0px 1px 3px 1px rgba(60, 64, 67, 0.15);\n",
              "      fill: #174EA6;\n",
              "    }\n",
              "\n",
              "    [theme=dark] .colab-df-convert {\n",
              "      background-color: #3B4455;\n",
              "      fill: #D2E3FC;\n",
              "    }\n",
              "\n",
              "    [theme=dark] .colab-df-convert:hover {\n",
              "      background-color: #434B5C;\n",
              "      box-shadow: 0px 1px 3px 1px rgba(0, 0, 0, 0.15);\n",
              "      filter: drop-shadow(0px 1px 2px rgba(0, 0, 0, 0.3));\n",
              "      fill: #FFFFFF;\n",
              "    }\n",
              "  </style>\n",
              "\n",
              "      <script>\n",
              "        const buttonEl =\n",
              "          document.querySelector('#df-4d95cc94-f470-45a7-a782-1679690e204b button.colab-df-convert');\n",
              "        buttonEl.style.display =\n",
              "          google.colab.kernel.accessAllowed ? 'block' : 'none';\n",
              "\n",
              "        async function convertToInteractive(key) {\n",
              "          const element = document.querySelector('#df-4d95cc94-f470-45a7-a782-1679690e204b');\n",
              "          const dataTable =\n",
              "            await google.colab.kernel.invokeFunction('convertToInteractive',\n",
              "                                                     [key], {});\n",
              "          if (!dataTable) return;\n",
              "\n",
              "          const docLinkHtml = 'Like what you see? Visit the ' +\n",
              "            '<a target=\"_blank\" href=https://colab.research.google.com/notebooks/data_table.ipynb>data table notebook</a>'\n",
              "            + ' to learn more about interactive tables.';\n",
              "          element.innerHTML = '';\n",
              "          dataTable['output_type'] = 'display_data';\n",
              "          await google.colab.output.renderOutput(dataTable, element);\n",
              "          const docLink = document.createElement('div');\n",
              "          docLink.innerHTML = docLinkHtml;\n",
              "          element.appendChild(docLink);\n",
              "        }\n",
              "      </script>\n",
              "    </div>\n",
              "  </div>\n",
              "  "
            ]
          },
          "metadata": {},
          "execution_count": 8
        }
      ]
    },
    {
      "cell_type": "markdown",
      "id": "7189dfac",
      "metadata": {
        "id": "7189dfac"
      },
      "source": [
        "## Test-Train-Split"
      ]
    },
    {
      "cell_type": "code",
      "execution_count": 9,
      "id": "4aa8691b",
      "metadata": {
        "id": "4aa8691b"
      },
      "outputs": [],
      "source": [
        "# dividing train df into train_x and train_y \n",
        "X_train = train_df.drop('Sales', axis=1)\n",
        "y_train = train_df[['Sales']]\n",
        "\n",
        "#dividing test df into test_x and test_y\n",
        "X_test = test_df.drop(\"Sales\", axis=1)\n",
        "y_test = test_df[['Sales']]"
      ]
    },
    {
      "cell_type": "markdown",
      "id": "f63335e3",
      "metadata": {
        "id": "f63335e3"
      },
      "source": [
        "One Hot Encoding of categorical columns to conver them into numerical columns"
      ]
    },
    {
      "cell_type": "code",
      "execution_count": 10,
      "id": "3097d1a0",
      "metadata": {
        "id": "3097d1a0"
      },
      "outputs": [],
      "source": [
        "# making a list of categorical columns\n",
        "Categorical_columns = ['DayOfWeek','StoreType','Assortment']"
      ]
    },
    {
      "cell_type": "code",
      "execution_count": 11,
      "id": "86c59229",
      "metadata": {
        "id": "86c59229"
      },
      "outputs": [],
      "source": [
        "# assigning one hot encoder\n",
        "enc = OneHotEncoder(sparse=False)"
      ]
    },
    {
      "cell_type": "code",
      "execution_count": 12,
      "id": "e48c3286",
      "metadata": {
        "colab": {
          "base_uri": "https://localhost:8080/"
        },
        "id": "e48c3286",
        "outputId": "4f7360ba-e2a9-4a63-c6e4-c99762c83a18"
      },
      "outputs": [
        {
          "output_type": "execute_result",
          "data": {
            "text/plain": [
              "OneHotEncoder(sparse=False)"
            ]
          },
          "metadata": {},
          "execution_count": 12
        }
      ],
      "source": [
        "enc.fit(X_train[Categorical_columns])"
      ]
    },
    {
      "cell_type": "code",
      "execution_count": 13,
      "id": "a0c04ad8",
      "metadata": {
        "id": "a0c04ad8"
      },
      "outputs": [],
      "source": [
        "# getting a new list of encoded columns from Categorical_columns in train data\n",
        "encoded_cols = enc.get_feature_names(Categorical_columns).tolist()"
      ]
    },
    {
      "cell_type": "code",
      "execution_count": 14,
      "id": "1b3ff2a5",
      "metadata": {
        "colab": {
          "base_uri": "https://localhost:8080/"
        },
        "id": "1b3ff2a5",
        "outputId": "85ccaf14-07af-4bf1-8453-eda9908fffcb"
      },
      "outputs": [
        {
          "output_type": "execute_result",
          "data": {
            "text/plain": [
              "['DayOfWeek_1',\n",
              " 'DayOfWeek_2',\n",
              " 'DayOfWeek_3',\n",
              " 'DayOfWeek_4',\n",
              " 'DayOfWeek_5',\n",
              " 'DayOfWeek_6',\n",
              " 'DayOfWeek_7',\n",
              " 'StoreType_a',\n",
              " 'StoreType_b',\n",
              " 'StoreType_c',\n",
              " 'StoreType_d',\n",
              " 'Assortment_a',\n",
              " 'Assortment_b',\n",
              " 'Assortment_c']"
            ]
          },
          "metadata": {},
          "execution_count": 14
        }
      ],
      "source": [
        "encoded_cols"
      ]
    },
    {
      "cell_type": "code",
      "execution_count": 15,
      "id": "09e434be",
      "metadata": {
        "id": "09e434be"
      },
      "outputs": [],
      "source": [
        "#performing transformation on training data and creating new features for encoded columns\n",
        "X_train[encoded_cols] = enc.transform(X_train[Categorical_columns])"
      ]
    },
    {
      "cell_type": "code",
      "execution_count": 16,
      "id": "89aef905",
      "metadata": {
        "id": "89aef905"
      },
      "outputs": [],
      "source": [
        "#dropping old categorical columns from training data\n",
        "X_train.drop(Categorical_columns, axis=1, inplace=True)"
      ]
    },
    {
      "cell_type": "code",
      "execution_count": 17,
      "id": "20706c5a",
      "metadata": {
        "id": "20706c5a"
      },
      "outputs": [],
      "source": [
        "#performing transformation on testing data and creating new features for encoded columns\n",
        "X_test[encoded_cols] = enc.transform(X_test[Categorical_columns])"
      ]
    },
    {
      "cell_type": "code",
      "execution_count": 18,
      "id": "7c148f05",
      "metadata": {
        "id": "7c148f05"
      },
      "outputs": [],
      "source": [
        "#dropping old categorical columns from testing data\n",
        "X_test.drop(Categorical_columns, axis=1, inplace=True)"
      ]
    },
    {
      "cell_type": "code",
      "source": [
        "X_train.columns"
      ],
      "metadata": {
        "colab": {
          "base_uri": "https://localhost:8080/"
        },
        "id": "2BWcdlcdsCXw",
        "outputId": "da76ffa5-49ed-4104-c05c-9e5f83f75f51"
      },
      "id": "2BWcdlcdsCXw",
      "execution_count": 19,
      "outputs": [
        {
          "output_type": "execute_result",
          "data": {
            "text/plain": [
              "Index(['Customers', 'Promo', 'StateHoliday', 'SchoolHoliday',\n",
              "       'CompetitionDistance', 'Promo2', 'Year', 'Month', 'WeekOfYear',\n",
              "       'DayOfYear', 'CompetitionOpen', 'Promo2Open', 'Promo2running',\n",
              "       'DayOfWeek_1', 'DayOfWeek_2', 'DayOfWeek_3', 'DayOfWeek_4',\n",
              "       'DayOfWeek_5', 'DayOfWeek_6', 'DayOfWeek_7', 'StoreType_a',\n",
              "       'StoreType_b', 'StoreType_c', 'StoreType_d', 'Assortment_a',\n",
              "       'Assortment_b', 'Assortment_c'],\n",
              "      dtype='object')"
            ]
          },
          "metadata": {},
          "execution_count": 19
        }
      ]
    },
    {
      "cell_type": "markdown",
      "source": [
        "### **Time for transformations in our data**"
      ],
      "metadata": {
        "id": "MPkfEB13shy3"
      },
      "id": "MPkfEB13shy3"
    },
    {
      "cell_type": "code",
      "source": [
        "from sklearn.preprocessing import StandardScaler\n",
        "scaler = StandardScaler()\n",
        "\n",
        "X_train[list(X_train.columns)] = scaler.fit_transform(X_train[list(X_train.columns)])\n",
        "X_test[list(X_test.columns)] = scaler.fit_transform(X_test[list(X_test.columns)])\n",
        "\n",
        "scaler = StandardScaler()\n",
        "y_train[list(y_train.columns)] = scaler.fit_transform(y_train[list(y_train.columns)])\n",
        "y_test[list(y_test.columns)] = scaler.transform(y_test[list(y_train.columns)])"
      ],
      "metadata": {
        "id": "bnqLqXj8smf3"
      },
      "id": "bnqLqXj8smf3",
      "execution_count": 20,
      "outputs": []
    },
    {
      "cell_type": "code",
      "source": [
        "# importing evaluation matrices\n",
        "from sklearn.metrics import mean_absolute_error\n",
        "from sklearn.metrics import mean_squared_error\n",
        "from sklearn.metrics import r2_score\n",
        "\n"
      ],
      "metadata": {
        "id": "lb7fRtIhw2B5"
      },
      "id": "lb7fRtIhw2B5",
      "execution_count": 21,
      "outputs": []
    },
    {
      "cell_type": "markdown",
      "source": [
        "**Hyperparameter Tuning**"
      ],
      "metadata": {
        "id": "Y4WXKHPuCA8e"
      },
      "id": "Y4WXKHPuCA8e"
    },
    {
      "cell_type": "code",
      "source": [
        "# importing random forest from ScikitLearn\n",
        "from sklearn.ensemble import RandomForestRegressor"
      ],
      "metadata": {
        "id": "hEyq2SWs3fbZ"
      },
      "id": "hEyq2SWs3fbZ",
      "execution_count": 22,
      "outputs": []
    },
    {
      "cell_type": "code",
      "source": [
        "from sklearn.model_selection import RandomizedSearchCV"
      ],
      "metadata": {
        "id": "p6BWSCj_03A5"
      },
      "id": "p6BWSCj_03A5",
      "execution_count": 23,
      "outputs": []
    },
    {
      "cell_type": "code",
      "source": [
        "rf_tuned = RandomForestRegressor(random_state=68)"
      ],
      "metadata": {
        "id": "CXxhrQN_1NTg"
      },
      "id": "CXxhrQN_1NTg",
      "execution_count": 24,
      "outputs": []
    },
    {
      "cell_type": "code",
      "source": [
        " #Randomized Search CV\n",
        "from scipy.stats import randint\n",
        "\n",
        "rs_space={'max_depth':[100,150,None],\n",
        "              'n_estimators':[100,150,200],\n",
        "              'max_features':['auto','sqrt'],\n",
        "              'min_samples_leaf':randint(1,4),\n",
        "              'min_samples_split':np.arange(2, 10, step=2)\n",
        "         }"
      ],
      "metadata": {
        "id": "dy-OfCVC1TzH"
      },
      "id": "dy-OfCVC1TzH",
      "execution_count": 25,
      "outputs": []
    },
    {
      "cell_type": "code",
      "source": [
        "# Random search of parameters, using 3 fold cross validation, \n",
        "rf_grid = RandomizedSearchCV(estimator = rf_tuned, param_distributions = rs_space, n_iter = 10, cv = 3, verbose=2, random_state=68)"
      ],
      "metadata": {
        "id": "yTn5urBW1rfD"
      },
      "id": "yTn5urBW1rfD",
      "execution_count": 26,
      "outputs": []
    },
    {
      "cell_type": "code",
      "source": [
        "model_random = rf_grid.fit(X_train,y_train)"
      ],
      "metadata": {
        "id": "8nRuh6pwy3Tu"
      },
      "id": "8nRuh6pwy3Tu",
      "execution_count": null,
      "outputs": []
    },
    {
      "cell_type": "code",
      "source": [
        "# getting best parameters\n",
        "model_random.best_params_"
      ],
      "metadata": {
        "id": "B3SJNjMc5hYs"
      },
      "id": "B3SJNjMc5hYs",
      "execution_count": null,
      "outputs": []
    },
    {
      "cell_type": "code",
      "source": [
        "# assigning variable with tuned params\n",
        "rf_tuned = RandomForestRegressor(max_depth = None, max_features = 'auto', min_samples_leaf=1, n_estimators=150)"
      ],
      "metadata": {
        "id": "ZAO38yWr2A55"
      },
      "id": "ZAO38yWr2A55",
      "execution_count": 27,
      "outputs": []
    },
    {
      "cell_type": "code",
      "source": [
        "# fitting on training data\n",
        "rf_tuned.fit(X_train,y_train)"
      ],
      "metadata": {
        "id": "iRW_qtrp5zHq",
        "colab": {
          "base_uri": "https://localhost:8080/"
        },
        "outputId": "466472bc-b03b-4623-f585-4c8c66022afd"
      },
      "id": "iRW_qtrp5zHq",
      "execution_count": 28,
      "outputs": [
        {
          "output_type": "execute_result",
          "data": {
            "text/plain": [
              "RandomForestRegressor(n_estimators=150)"
            ]
          },
          "metadata": {},
          "execution_count": 28
        }
      ]
    },
    {
      "cell_type": "code",
      "source": [
        "# predicting train_y\n",
        "y_pred_train_rft = rf_tuned.predict(X_train)"
      ],
      "metadata": {
        "id": "v7Z12fe2CJ4I"
      },
      "id": "v7Z12fe2CJ4I",
      "execution_count": 29,
      "outputs": []
    },
    {
      "cell_type": "code",
      "source": [
        "# predicting test_y\n",
        "y_pred_test_rft = rf_tuned.predict(X_test)"
      ],
      "metadata": {
        "id": "43FXjnoG2NcW"
      },
      "id": "43FXjnoG2NcW",
      "execution_count": 30,
      "outputs": []
    },
    {
      "cell_type": "code",
      "source": [
        "# printing evaluation matrices for our model\n",
        "print(f'r2_score for training data is {r2_score(y_pred_train_rft,y_train)}')\n",
        "print(f'r2_score for testing data is {r2_score(y_pred_test_rft,y_test)}')\n",
        "\n",
        "print(f'Adjusted r2_score for training data is {round(1 - (1-r2_score(y_train, y_pred_train_rft)) * (len(y_train)-1)/(len(y_train)-X_train.shape[1]-1),6)}')\n",
        "print(f'Adjusted r2_score for testing data is {round(1 - (1-r2_score(y_test, y_pred_test_rft)) * (len(y_test)-1)/(len(y_test)-X_test.shape[1]-1),6)}')\n",
        "\n",
        "print(f'Mean Absolute Error for training data is {mean_absolute_error(y_pred_train_rft,y_train)}')\n",
        "print(f'Mean Absolute Error for testing data is {mean_absolute_error(y_pred_test_rft,y_test)}')\n",
        "\n",
        "print(f'Mean Squared Error for training data is {mean_squared_error(y_pred_train_rft,y_train)}')\n",
        "print(f'Mean Squared Error for testing data is {mean_squared_error(y_pred_test_rft,y_test)}')\n",
        "\n",
        "print(f'root Mean Squared Error for training data is {(mean_squared_error(y_pred_train_rft,y_train))**0.5}')\n",
        "print(f'root Mean Squared Error for testing data is {(mean_squared_error(y_pred_test_rft,y_test))**0.5}')\n"
      ],
      "metadata": {
        "id": "ikPUvUmm2UD2",
        "colab": {
          "base_uri": "https://localhost:8080/"
        },
        "outputId": "800d430e-530a-49fd-92e9-049f3391469e"
      },
      "id": "ikPUvUmm2UD2",
      "execution_count": 31,
      "outputs": [
        {
          "output_type": "stream",
          "name": "stdout",
          "text": [
            "r2_score for training data is 0.9965003595993287\n",
            "r2_score for testing data is 0.9510907768239845\n",
            "Adjusted r2_score for training data is 0.996563\n",
            "Adjusted r2_score for testing data is 0.952473\n",
            "Mean Absolute Error for training data is 0.04303023285488571\n",
            "Mean Absolute Error for testing data is 0.15355431451165685\n",
            "Mean Squared Error for training data is 0.0034366503423608357\n",
            "Mean Squared Error for testing data is 0.04474258249264862\n",
            "root Mean Squared Error for training data is 0.05862295064529621\n",
            "root Mean Squared Error for testing data is 0.2115244252861797\n"
          ]
        }
      ]
    },
    {
      "cell_type": "code",
      "source": [
        "#fetching the comparison file from baseline model\n",
        "comparison_df = pd.read_csv('/content/drive/MyDrive/Retail Sales Prediction/comparison_df.csv')"
      ],
      "metadata": {
        "id": "IMYvyV-_qe2b"
      },
      "id": "IMYvyV-_qe2b",
      "execution_count": 33,
      "outputs": []
    },
    {
      "cell_type": "code",
      "source": [
        "comparison_df_rf_Tune = pd.DataFrame({'Model_name':'Random Forest Tuned',\n",
        "                                      'Variable':'rf_tuned', \n",
        "                                     'Train_r2':r2_score(y_pred_train_rft,y_train),\t\n",
        "                                     'Test_r2':r2_score(y_pred_test_rft,y_test),\t\n",
        "                                     'Train_adjusted_r2':round(1 - (1-r2_score(y_train, y_pred_train_rft)) * (len(y_train)-1)/(len(y_train)-X_train.shape[1]-1),6),\n",
        "                                     'Test_adjusted_r2':round(1 - (1-r2_score(y_test, y_pred_test_rft)) * (len(y_test)-1)/(len(y_test)-X_test.shape[1]-1),6),\n",
        "                                     'Train_MAE':mean_absolute_error(y_pred_train_rft,y_train),\n",
        "                                     'Test_MAE':mean_absolute_error(y_pred_test_rft,y_test),\n",
        "                                     'Train_MSE':mean_squared_error(y_pred_train_rft,y_train),\n",
        "                                     'Test_MSE': mean_squared_error(y_pred_test_rft,y_test),\n",
        "                                     \t'Train_RMSE':math.sqrt(mean_squared_error(y_pred_train_rft,y_train)),\n",
        "                                      'Test_RMSE':math.sqrt(mean_squared_error(y_pred_test_rft,y_test))}, index=[0])"
      ],
      "metadata": {
        "id": "RqA460req5gv"
      },
      "id": "RqA460req5gv",
      "execution_count": 34,
      "outputs": []
    },
    {
      "cell_type": "code",
      "source": [
        "comparison_df_rf_Tune"
      ],
      "metadata": {
        "colab": {
          "base_uri": "https://localhost:8080/",
          "height": 81
        },
        "id": "Ha6MEPXnrMFA",
        "outputId": "7255e733-996b-4932-a16b-2ed168a071c8"
      },
      "id": "Ha6MEPXnrMFA",
      "execution_count": 35,
      "outputs": [
        {
          "output_type": "execute_result",
          "data": {
            "text/plain": [
              "            Model_name  Variable  Train_r2   Test_r2  Train_adjusted_r2  \\\n",
              "0  Random Forest Tuned  rf_tuned    0.9965  0.951091           0.996563   \n",
              "\n",
              "   Test_adjusted_r2  Train_MAE  Test_MAE  Train_MSE  Test_MSE  Train_RMSE  \\\n",
              "0          0.952473    0.04303  0.153554   0.003437  0.044743    0.058623   \n",
              "\n",
              "   Test_RMSE  \n",
              "0   0.211524  "
            ],
            "text/html": [
              "\n",
              "  <div id=\"df-8fce5bfb-8e73-443c-bf1d-6250c20f787b\">\n",
              "    <div class=\"colab-df-container\">\n",
              "      <div>\n",
              "<style scoped>\n",
              "    .dataframe tbody tr th:only-of-type {\n",
              "        vertical-align: middle;\n",
              "    }\n",
              "\n",
              "    .dataframe tbody tr th {\n",
              "        vertical-align: top;\n",
              "    }\n",
              "\n",
              "    .dataframe thead th {\n",
              "        text-align: right;\n",
              "    }\n",
              "</style>\n",
              "<table border=\"1\" class=\"dataframe\">\n",
              "  <thead>\n",
              "    <tr style=\"text-align: right;\">\n",
              "      <th></th>\n",
              "      <th>Model_name</th>\n",
              "      <th>Variable</th>\n",
              "      <th>Train_r2</th>\n",
              "      <th>Test_r2</th>\n",
              "      <th>Train_adjusted_r2</th>\n",
              "      <th>Test_adjusted_r2</th>\n",
              "      <th>Train_MAE</th>\n",
              "      <th>Test_MAE</th>\n",
              "      <th>Train_MSE</th>\n",
              "      <th>Test_MSE</th>\n",
              "      <th>Train_RMSE</th>\n",
              "      <th>Test_RMSE</th>\n",
              "    </tr>\n",
              "  </thead>\n",
              "  <tbody>\n",
              "    <tr>\n",
              "      <th>0</th>\n",
              "      <td>Random Forest Tuned</td>\n",
              "      <td>rf_tuned</td>\n",
              "      <td>0.9965</td>\n",
              "      <td>0.951091</td>\n",
              "      <td>0.996563</td>\n",
              "      <td>0.952473</td>\n",
              "      <td>0.04303</td>\n",
              "      <td>0.153554</td>\n",
              "      <td>0.003437</td>\n",
              "      <td>0.044743</td>\n",
              "      <td>0.058623</td>\n",
              "      <td>0.211524</td>\n",
              "    </tr>\n",
              "  </tbody>\n",
              "</table>\n",
              "</div>\n",
              "      <button class=\"colab-df-convert\" onclick=\"convertToInteractive('df-8fce5bfb-8e73-443c-bf1d-6250c20f787b')\"\n",
              "              title=\"Convert this dataframe to an interactive table.\"\n",
              "              style=\"display:none;\">\n",
              "        \n",
              "  <svg xmlns=\"http://www.w3.org/2000/svg\" height=\"24px\"viewBox=\"0 0 24 24\"\n",
              "       width=\"24px\">\n",
              "    <path d=\"M0 0h24v24H0V0z\" fill=\"none\"/>\n",
              "    <path d=\"M18.56 5.44l.94 2.06.94-2.06 2.06-.94-2.06-.94-.94-2.06-.94 2.06-2.06.94zm-11 1L8.5 8.5l.94-2.06 2.06-.94-2.06-.94L8.5 2.5l-.94 2.06-2.06.94zm10 10l.94 2.06.94-2.06 2.06-.94-2.06-.94-.94-2.06-.94 2.06-2.06.94z\"/><path d=\"M17.41 7.96l-1.37-1.37c-.4-.4-.92-.59-1.43-.59-.52 0-1.04.2-1.43.59L10.3 9.45l-7.72 7.72c-.78.78-.78 2.05 0 2.83L4 21.41c.39.39.9.59 1.41.59.51 0 1.02-.2 1.41-.59l7.78-7.78 2.81-2.81c.8-.78.8-2.07 0-2.86zM5.41 20L4 18.59l7.72-7.72 1.47 1.35L5.41 20z\"/>\n",
              "  </svg>\n",
              "      </button>\n",
              "      \n",
              "  <style>\n",
              "    .colab-df-container {\n",
              "      display:flex;\n",
              "      flex-wrap:wrap;\n",
              "      gap: 12px;\n",
              "    }\n",
              "\n",
              "    .colab-df-convert {\n",
              "      background-color: #E8F0FE;\n",
              "      border: none;\n",
              "      border-radius: 50%;\n",
              "      cursor: pointer;\n",
              "      display: none;\n",
              "      fill: #1967D2;\n",
              "      height: 32px;\n",
              "      padding: 0 0 0 0;\n",
              "      width: 32px;\n",
              "    }\n",
              "\n",
              "    .colab-df-convert:hover {\n",
              "      background-color: #E2EBFA;\n",
              "      box-shadow: 0px 1px 2px rgba(60, 64, 67, 0.3), 0px 1px 3px 1px rgba(60, 64, 67, 0.15);\n",
              "      fill: #174EA6;\n",
              "    }\n",
              "\n",
              "    [theme=dark] .colab-df-convert {\n",
              "      background-color: #3B4455;\n",
              "      fill: #D2E3FC;\n",
              "    }\n",
              "\n",
              "    [theme=dark] .colab-df-convert:hover {\n",
              "      background-color: #434B5C;\n",
              "      box-shadow: 0px 1px 3px 1px rgba(0, 0, 0, 0.15);\n",
              "      filter: drop-shadow(0px 1px 2px rgba(0, 0, 0, 0.3));\n",
              "      fill: #FFFFFF;\n",
              "    }\n",
              "  </style>\n",
              "\n",
              "      <script>\n",
              "        const buttonEl =\n",
              "          document.querySelector('#df-8fce5bfb-8e73-443c-bf1d-6250c20f787b button.colab-df-convert');\n",
              "        buttonEl.style.display =\n",
              "          google.colab.kernel.accessAllowed ? 'block' : 'none';\n",
              "\n",
              "        async function convertToInteractive(key) {\n",
              "          const element = document.querySelector('#df-8fce5bfb-8e73-443c-bf1d-6250c20f787b');\n",
              "          const dataTable =\n",
              "            await google.colab.kernel.invokeFunction('convertToInteractive',\n",
              "                                                     [key], {});\n",
              "          if (!dataTable) return;\n",
              "\n",
              "          const docLinkHtml = 'Like what you see? Visit the ' +\n",
              "            '<a target=\"_blank\" href=https://colab.research.google.com/notebooks/data_table.ipynb>data table notebook</a>'\n",
              "            + ' to learn more about interactive tables.';\n",
              "          element.innerHTML = '';\n",
              "          dataTable['output_type'] = 'display_data';\n",
              "          await google.colab.output.renderOutput(dataTable, element);\n",
              "          const docLink = document.createElement('div');\n",
              "          docLink.innerHTML = docLinkHtml;\n",
              "          element.appendChild(docLink);\n",
              "        }\n",
              "      </script>\n",
              "    </div>\n",
              "  </div>\n",
              "  "
            ]
          },
          "metadata": {},
          "execution_count": 35
        }
      ]
    },
    {
      "cell_type": "code",
      "source": [
        "updated_comparison_df = pd.concat([comparison_df, comparison_df_rf_Tune], axis=0)"
      ],
      "metadata": {
        "id": "ZvgrmZuvrR5Q"
      },
      "id": "ZvgrmZuvrR5Q",
      "execution_count": 36,
      "outputs": []
    },
    {
      "cell_type": "code",
      "source": [
        "updated_comparison_df "
      ],
      "metadata": {
        "colab": {
          "base_uri": "https://localhost:8080/",
          "height": 271
        },
        "id": "72a3WtMWrX0x",
        "outputId": "33091683-4a26-4cdc-9a17-d22a132f3b61"
      },
      "id": "72a3WtMWrX0x",
      "execution_count": 37,
      "outputs": [
        {
          "output_type": "execute_result",
          "data": {
            "text/plain": [
              "   Unnamed: 0                     Model_name  Variable  Train_r2   Test_r2  \\\n",
              "0         0.0                  Decision Tree     dtree  0.999999  0.914399   \n",
              "1         1.0        Random Forest Regressor        rf  0.996439  0.950826   \n",
              "2         2.0  LightGradient Boost Regressor  lgbm_reg  0.915440  0.890010   \n",
              "0         NaN            Random Forest Tuned  rf_tuned  0.996500  0.951091   \n",
              "\n",
              "   Train_adjusted_r2  Test_adjusted_r2  Train_MAE  Test_MAE  Train_MSE  \\\n",
              "0           0.999999          0.912579   0.000004  0.204662   0.000001   \n",
              "1           0.996503          0.952213   0.043316  0.153933   0.003497   \n",
              "2           0.925163          0.901768   0.214817  0.238325   0.074834   \n",
              "0           0.996563          0.952473   0.043030  0.153554   0.003437   \n",
              "\n",
              "   Test_MSE  Train_RMSE  Test_RMSE  \n",
              "0  0.082300    0.001116   0.286879  \n",
              "1  0.044987    0.059134   0.212102  \n",
              "2  0.092477    0.273558   0.304100  \n",
              "0  0.044743    0.058623   0.211524  "
            ],
            "text/html": [
              "\n",
              "  <div id=\"df-d92e9172-d62d-4033-82fd-d29b0935a5f9\">\n",
              "    <div class=\"colab-df-container\">\n",
              "      <div>\n",
              "<style scoped>\n",
              "    .dataframe tbody tr th:only-of-type {\n",
              "        vertical-align: middle;\n",
              "    }\n",
              "\n",
              "    .dataframe tbody tr th {\n",
              "        vertical-align: top;\n",
              "    }\n",
              "\n",
              "    .dataframe thead th {\n",
              "        text-align: right;\n",
              "    }\n",
              "</style>\n",
              "<table border=\"1\" class=\"dataframe\">\n",
              "  <thead>\n",
              "    <tr style=\"text-align: right;\">\n",
              "      <th></th>\n",
              "      <th>Unnamed: 0</th>\n",
              "      <th>Model_name</th>\n",
              "      <th>Variable</th>\n",
              "      <th>Train_r2</th>\n",
              "      <th>Test_r2</th>\n",
              "      <th>Train_adjusted_r2</th>\n",
              "      <th>Test_adjusted_r2</th>\n",
              "      <th>Train_MAE</th>\n",
              "      <th>Test_MAE</th>\n",
              "      <th>Train_MSE</th>\n",
              "      <th>Test_MSE</th>\n",
              "      <th>Train_RMSE</th>\n",
              "      <th>Test_RMSE</th>\n",
              "    </tr>\n",
              "  </thead>\n",
              "  <tbody>\n",
              "    <tr>\n",
              "      <th>0</th>\n",
              "      <td>0.0</td>\n",
              "      <td>Decision Tree</td>\n",
              "      <td>dtree</td>\n",
              "      <td>0.999999</td>\n",
              "      <td>0.914399</td>\n",
              "      <td>0.999999</td>\n",
              "      <td>0.912579</td>\n",
              "      <td>0.000004</td>\n",
              "      <td>0.204662</td>\n",
              "      <td>0.000001</td>\n",
              "      <td>0.082300</td>\n",
              "      <td>0.001116</td>\n",
              "      <td>0.286879</td>\n",
              "    </tr>\n",
              "    <tr>\n",
              "      <th>1</th>\n",
              "      <td>1.0</td>\n",
              "      <td>Random Forest Regressor</td>\n",
              "      <td>rf</td>\n",
              "      <td>0.996439</td>\n",
              "      <td>0.950826</td>\n",
              "      <td>0.996503</td>\n",
              "      <td>0.952213</td>\n",
              "      <td>0.043316</td>\n",
              "      <td>0.153933</td>\n",
              "      <td>0.003497</td>\n",
              "      <td>0.044987</td>\n",
              "      <td>0.059134</td>\n",
              "      <td>0.212102</td>\n",
              "    </tr>\n",
              "    <tr>\n",
              "      <th>2</th>\n",
              "      <td>2.0</td>\n",
              "      <td>LightGradient Boost Regressor</td>\n",
              "      <td>lgbm_reg</td>\n",
              "      <td>0.915440</td>\n",
              "      <td>0.890010</td>\n",
              "      <td>0.925163</td>\n",
              "      <td>0.901768</td>\n",
              "      <td>0.214817</td>\n",
              "      <td>0.238325</td>\n",
              "      <td>0.074834</td>\n",
              "      <td>0.092477</td>\n",
              "      <td>0.273558</td>\n",
              "      <td>0.304100</td>\n",
              "    </tr>\n",
              "    <tr>\n",
              "      <th>0</th>\n",
              "      <td>NaN</td>\n",
              "      <td>Random Forest Tuned</td>\n",
              "      <td>rf_tuned</td>\n",
              "      <td>0.996500</td>\n",
              "      <td>0.951091</td>\n",
              "      <td>0.996563</td>\n",
              "      <td>0.952473</td>\n",
              "      <td>0.043030</td>\n",
              "      <td>0.153554</td>\n",
              "      <td>0.003437</td>\n",
              "      <td>0.044743</td>\n",
              "      <td>0.058623</td>\n",
              "      <td>0.211524</td>\n",
              "    </tr>\n",
              "  </tbody>\n",
              "</table>\n",
              "</div>\n",
              "      <button class=\"colab-df-convert\" onclick=\"convertToInteractive('df-d92e9172-d62d-4033-82fd-d29b0935a5f9')\"\n",
              "              title=\"Convert this dataframe to an interactive table.\"\n",
              "              style=\"display:none;\">\n",
              "        \n",
              "  <svg xmlns=\"http://www.w3.org/2000/svg\" height=\"24px\"viewBox=\"0 0 24 24\"\n",
              "       width=\"24px\">\n",
              "    <path d=\"M0 0h24v24H0V0z\" fill=\"none\"/>\n",
              "    <path d=\"M18.56 5.44l.94 2.06.94-2.06 2.06-.94-2.06-.94-.94-2.06-.94 2.06-2.06.94zm-11 1L8.5 8.5l.94-2.06 2.06-.94-2.06-.94L8.5 2.5l-.94 2.06-2.06.94zm10 10l.94 2.06.94-2.06 2.06-.94-2.06-.94-.94-2.06-.94 2.06-2.06.94z\"/><path d=\"M17.41 7.96l-1.37-1.37c-.4-.4-.92-.59-1.43-.59-.52 0-1.04.2-1.43.59L10.3 9.45l-7.72 7.72c-.78.78-.78 2.05 0 2.83L4 21.41c.39.39.9.59 1.41.59.51 0 1.02-.2 1.41-.59l7.78-7.78 2.81-2.81c.8-.78.8-2.07 0-2.86zM5.41 20L4 18.59l7.72-7.72 1.47 1.35L5.41 20z\"/>\n",
              "  </svg>\n",
              "      </button>\n",
              "      \n",
              "  <style>\n",
              "    .colab-df-container {\n",
              "      display:flex;\n",
              "      flex-wrap:wrap;\n",
              "      gap: 12px;\n",
              "    }\n",
              "\n",
              "    .colab-df-convert {\n",
              "      background-color: #E8F0FE;\n",
              "      border: none;\n",
              "      border-radius: 50%;\n",
              "      cursor: pointer;\n",
              "      display: none;\n",
              "      fill: #1967D2;\n",
              "      height: 32px;\n",
              "      padding: 0 0 0 0;\n",
              "      width: 32px;\n",
              "    }\n",
              "\n",
              "    .colab-df-convert:hover {\n",
              "      background-color: #E2EBFA;\n",
              "      box-shadow: 0px 1px 2px rgba(60, 64, 67, 0.3), 0px 1px 3px 1px rgba(60, 64, 67, 0.15);\n",
              "      fill: #174EA6;\n",
              "    }\n",
              "\n",
              "    [theme=dark] .colab-df-convert {\n",
              "      background-color: #3B4455;\n",
              "      fill: #D2E3FC;\n",
              "    }\n",
              "\n",
              "    [theme=dark] .colab-df-convert:hover {\n",
              "      background-color: #434B5C;\n",
              "      box-shadow: 0px 1px 3px 1px rgba(0, 0, 0, 0.15);\n",
              "      filter: drop-shadow(0px 1px 2px rgba(0, 0, 0, 0.3));\n",
              "      fill: #FFFFFF;\n",
              "    }\n",
              "  </style>\n",
              "\n",
              "      <script>\n",
              "        const buttonEl =\n",
              "          document.querySelector('#df-d92e9172-d62d-4033-82fd-d29b0935a5f9 button.colab-df-convert');\n",
              "        buttonEl.style.display =\n",
              "          google.colab.kernel.accessAllowed ? 'block' : 'none';\n",
              "\n",
              "        async function convertToInteractive(key) {\n",
              "          const element = document.querySelector('#df-d92e9172-d62d-4033-82fd-d29b0935a5f9');\n",
              "          const dataTable =\n",
              "            await google.colab.kernel.invokeFunction('convertToInteractive',\n",
              "                                                     [key], {});\n",
              "          if (!dataTable) return;\n",
              "\n",
              "          const docLinkHtml = 'Like what you see? Visit the ' +\n",
              "            '<a target=\"_blank\" href=https://colab.research.google.com/notebooks/data_table.ipynb>data table notebook</a>'\n",
              "            + ' to learn more about interactive tables.';\n",
              "          element.innerHTML = '';\n",
              "          dataTable['output_type'] = 'display_data';\n",
              "          await google.colab.output.renderOutput(dataTable, element);\n",
              "          const docLink = document.createElement('div');\n",
              "          docLink.innerHTML = docLinkHtml;\n",
              "          element.appendChild(docLink);\n",
              "        }\n",
              "      </script>\n",
              "    </div>\n",
              "  </div>\n",
              "  "
            ]
          },
          "metadata": {},
          "execution_count": 37
        }
      ]
    },
    {
      "cell_type": "code",
      "source": [
        "updated_comparison_df.drop(columns =['Unnamed: 0'], axis=1, inplace=True)"
      ],
      "metadata": {
        "id": "Bs5oLBLxra6T"
      },
      "id": "Bs5oLBLxra6T",
      "execution_count": 38,
      "outputs": []
    },
    {
      "cell_type": "code",
      "source": [
        "updated_comparison_df.reset_index(inplace=True)"
      ],
      "metadata": {
        "id": "ZLWHCceGreyR"
      },
      "id": "ZLWHCceGreyR",
      "execution_count": 39,
      "outputs": []
    },
    {
      "cell_type": "code",
      "source": [
        "updated_comparison_df.drop(columns=['index'], axis=1, inplace=True)"
      ],
      "metadata": {
        "id": "gk1PSuOjrivC"
      },
      "id": "gk1PSuOjrivC",
      "execution_count": 40,
      "outputs": []
    },
    {
      "cell_type": "code",
      "source": [
        "# showing final comparison df\n",
        "updated_comparison_df"
      ],
      "metadata": {
        "colab": {
          "base_uri": "https://localhost:8080/",
          "height": 175
        },
        "id": "Y3er0lr1rnQC",
        "outputId": "16c27e7e-e81e-4169-ed6e-fa8db36e673c"
      },
      "id": "Y3er0lr1rnQC",
      "execution_count": 41,
      "outputs": [
        {
          "output_type": "execute_result",
          "data": {
            "text/plain": [
              "                      Model_name  Variable  Train_r2   Test_r2  \\\n",
              "0                  Decision Tree     dtree  0.999999  0.914399   \n",
              "1        Random Forest Regressor        rf  0.996439  0.950826   \n",
              "2  LightGradient Boost Regressor  lgbm_reg  0.915440  0.890010   \n",
              "3            Random Forest Tuned  rf_tuned  0.996500  0.951091   \n",
              "\n",
              "   Train_adjusted_r2  Test_adjusted_r2  Train_MAE  Test_MAE  Train_MSE  \\\n",
              "0           0.999999          0.912579   0.000004  0.204662   0.000001   \n",
              "1           0.996503          0.952213   0.043316  0.153933   0.003497   \n",
              "2           0.925163          0.901768   0.214817  0.238325   0.074834   \n",
              "3           0.996563          0.952473   0.043030  0.153554   0.003437   \n",
              "\n",
              "   Test_MSE  Train_RMSE  Test_RMSE  \n",
              "0  0.082300    0.001116   0.286879  \n",
              "1  0.044987    0.059134   0.212102  \n",
              "2  0.092477    0.273558   0.304100  \n",
              "3  0.044743    0.058623   0.211524  "
            ],
            "text/html": [
              "\n",
              "  <div id=\"df-2efd9c34-4256-4562-908d-62c38e420f3a\">\n",
              "    <div class=\"colab-df-container\">\n",
              "      <div>\n",
              "<style scoped>\n",
              "    .dataframe tbody tr th:only-of-type {\n",
              "        vertical-align: middle;\n",
              "    }\n",
              "\n",
              "    .dataframe tbody tr th {\n",
              "        vertical-align: top;\n",
              "    }\n",
              "\n",
              "    .dataframe thead th {\n",
              "        text-align: right;\n",
              "    }\n",
              "</style>\n",
              "<table border=\"1\" class=\"dataframe\">\n",
              "  <thead>\n",
              "    <tr style=\"text-align: right;\">\n",
              "      <th></th>\n",
              "      <th>Model_name</th>\n",
              "      <th>Variable</th>\n",
              "      <th>Train_r2</th>\n",
              "      <th>Test_r2</th>\n",
              "      <th>Train_adjusted_r2</th>\n",
              "      <th>Test_adjusted_r2</th>\n",
              "      <th>Train_MAE</th>\n",
              "      <th>Test_MAE</th>\n",
              "      <th>Train_MSE</th>\n",
              "      <th>Test_MSE</th>\n",
              "      <th>Train_RMSE</th>\n",
              "      <th>Test_RMSE</th>\n",
              "    </tr>\n",
              "  </thead>\n",
              "  <tbody>\n",
              "    <tr>\n",
              "      <th>0</th>\n",
              "      <td>Decision Tree</td>\n",
              "      <td>dtree</td>\n",
              "      <td>0.999999</td>\n",
              "      <td>0.914399</td>\n",
              "      <td>0.999999</td>\n",
              "      <td>0.912579</td>\n",
              "      <td>0.000004</td>\n",
              "      <td>0.204662</td>\n",
              "      <td>0.000001</td>\n",
              "      <td>0.082300</td>\n",
              "      <td>0.001116</td>\n",
              "      <td>0.286879</td>\n",
              "    </tr>\n",
              "    <tr>\n",
              "      <th>1</th>\n",
              "      <td>Random Forest Regressor</td>\n",
              "      <td>rf</td>\n",
              "      <td>0.996439</td>\n",
              "      <td>0.950826</td>\n",
              "      <td>0.996503</td>\n",
              "      <td>0.952213</td>\n",
              "      <td>0.043316</td>\n",
              "      <td>0.153933</td>\n",
              "      <td>0.003497</td>\n",
              "      <td>0.044987</td>\n",
              "      <td>0.059134</td>\n",
              "      <td>0.212102</td>\n",
              "    </tr>\n",
              "    <tr>\n",
              "      <th>2</th>\n",
              "      <td>LightGradient Boost Regressor</td>\n",
              "      <td>lgbm_reg</td>\n",
              "      <td>0.915440</td>\n",
              "      <td>0.890010</td>\n",
              "      <td>0.925163</td>\n",
              "      <td>0.901768</td>\n",
              "      <td>0.214817</td>\n",
              "      <td>0.238325</td>\n",
              "      <td>0.074834</td>\n",
              "      <td>0.092477</td>\n",
              "      <td>0.273558</td>\n",
              "      <td>0.304100</td>\n",
              "    </tr>\n",
              "    <tr>\n",
              "      <th>3</th>\n",
              "      <td>Random Forest Tuned</td>\n",
              "      <td>rf_tuned</td>\n",
              "      <td>0.996500</td>\n",
              "      <td>0.951091</td>\n",
              "      <td>0.996563</td>\n",
              "      <td>0.952473</td>\n",
              "      <td>0.043030</td>\n",
              "      <td>0.153554</td>\n",
              "      <td>0.003437</td>\n",
              "      <td>0.044743</td>\n",
              "      <td>0.058623</td>\n",
              "      <td>0.211524</td>\n",
              "    </tr>\n",
              "  </tbody>\n",
              "</table>\n",
              "</div>\n",
              "      <button class=\"colab-df-convert\" onclick=\"convertToInteractive('df-2efd9c34-4256-4562-908d-62c38e420f3a')\"\n",
              "              title=\"Convert this dataframe to an interactive table.\"\n",
              "              style=\"display:none;\">\n",
              "        \n",
              "  <svg xmlns=\"http://www.w3.org/2000/svg\" height=\"24px\"viewBox=\"0 0 24 24\"\n",
              "       width=\"24px\">\n",
              "    <path d=\"M0 0h24v24H0V0z\" fill=\"none\"/>\n",
              "    <path d=\"M18.56 5.44l.94 2.06.94-2.06 2.06-.94-2.06-.94-.94-2.06-.94 2.06-2.06.94zm-11 1L8.5 8.5l.94-2.06 2.06-.94-2.06-.94L8.5 2.5l-.94 2.06-2.06.94zm10 10l.94 2.06.94-2.06 2.06-.94-2.06-.94-.94-2.06-.94 2.06-2.06.94z\"/><path d=\"M17.41 7.96l-1.37-1.37c-.4-.4-.92-.59-1.43-.59-.52 0-1.04.2-1.43.59L10.3 9.45l-7.72 7.72c-.78.78-.78 2.05 0 2.83L4 21.41c.39.39.9.59 1.41.59.51 0 1.02-.2 1.41-.59l7.78-7.78 2.81-2.81c.8-.78.8-2.07 0-2.86zM5.41 20L4 18.59l7.72-7.72 1.47 1.35L5.41 20z\"/>\n",
              "  </svg>\n",
              "      </button>\n",
              "      \n",
              "  <style>\n",
              "    .colab-df-container {\n",
              "      display:flex;\n",
              "      flex-wrap:wrap;\n",
              "      gap: 12px;\n",
              "    }\n",
              "\n",
              "    .colab-df-convert {\n",
              "      background-color: #E8F0FE;\n",
              "      border: none;\n",
              "      border-radius: 50%;\n",
              "      cursor: pointer;\n",
              "      display: none;\n",
              "      fill: #1967D2;\n",
              "      height: 32px;\n",
              "      padding: 0 0 0 0;\n",
              "      width: 32px;\n",
              "    }\n",
              "\n",
              "    .colab-df-convert:hover {\n",
              "      background-color: #E2EBFA;\n",
              "      box-shadow: 0px 1px 2px rgba(60, 64, 67, 0.3), 0px 1px 3px 1px rgba(60, 64, 67, 0.15);\n",
              "      fill: #174EA6;\n",
              "    }\n",
              "\n",
              "    [theme=dark] .colab-df-convert {\n",
              "      background-color: #3B4455;\n",
              "      fill: #D2E3FC;\n",
              "    }\n",
              "\n",
              "    [theme=dark] .colab-df-convert:hover {\n",
              "      background-color: #434B5C;\n",
              "      box-shadow: 0px 1px 3px 1px rgba(0, 0, 0, 0.15);\n",
              "      filter: drop-shadow(0px 1px 2px rgba(0, 0, 0, 0.3));\n",
              "      fill: #FFFFFF;\n",
              "    }\n",
              "  </style>\n",
              "\n",
              "      <script>\n",
              "        const buttonEl =\n",
              "          document.querySelector('#df-2efd9c34-4256-4562-908d-62c38e420f3a button.colab-df-convert');\n",
              "        buttonEl.style.display =\n",
              "          google.colab.kernel.accessAllowed ? 'block' : 'none';\n",
              "\n",
              "        async function convertToInteractive(key) {\n",
              "          const element = document.querySelector('#df-2efd9c34-4256-4562-908d-62c38e420f3a');\n",
              "          const dataTable =\n",
              "            await google.colab.kernel.invokeFunction('convertToInteractive',\n",
              "                                                     [key], {});\n",
              "          if (!dataTable) return;\n",
              "\n",
              "          const docLinkHtml = 'Like what you see? Visit the ' +\n",
              "            '<a target=\"_blank\" href=https://colab.research.google.com/notebooks/data_table.ipynb>data table notebook</a>'\n",
              "            + ' to learn more about interactive tables.';\n",
              "          element.innerHTML = '';\n",
              "          dataTable['output_type'] = 'display_data';\n",
              "          await google.colab.output.renderOutput(dataTable, element);\n",
              "          const docLink = document.createElement('div');\n",
              "          docLink.innerHTML = docLinkHtml;\n",
              "          element.appendChild(docLink);\n",
              "        }\n",
              "      </script>\n",
              "    </div>\n",
              "  </div>\n",
              "  "
            ]
          },
          "metadata": {},
          "execution_count": 41
        }
      ]
    },
    {
      "cell_type": "code",
      "source": [
        "#save the feature importances\n",
        "random_t = rf_tuned.feature_importances_"
      ],
      "metadata": {
        "id": "iG78VSLCrnwq"
      },
      "id": "iG78VSLCrnwq",
      "execution_count": 42,
      "outputs": []
    },
    {
      "cell_type": "code",
      "source": [
        "#visualising our comparison df for Test R2\n",
        "sns.barplot(y=updated_comparison_df['Model_name'], x = updated_comparison_df['Test_r2'])"
      ],
      "metadata": {
        "colab": {
          "base_uri": "https://localhost:8080/",
          "height": 297
        },
        "id": "Nd-iHShcrsGD",
        "outputId": "46dbd9f2-0931-4035-845a-5c532fa38307"
      },
      "id": "Nd-iHShcrsGD",
      "execution_count": 43,
      "outputs": [
        {
          "output_type": "execute_result",
          "data": {
            "text/plain": [
              "<matplotlib.axes._subplots.AxesSubplot at 0x7f05edafccd0>"
            ]
          },
          "metadata": {},
          "execution_count": 43
        },
        {
          "output_type": "display_data",
          "data": {
            "text/plain": [
              "<Figure size 432x288 with 1 Axes>"
            ],
            "image/png": "[encoded data removed]"
          },
          "metadata": {
            "needs_background": "light"
          }
        }
      ]
    },
    {
      "cell_type": "markdown",
      "source": [
        "### **Feature Importances**"
      ],
      "metadata": {
        "id": "-MdFp5JwryJD"
      },
      "id": "-MdFp5JwryJD"
    },
    {
      "cell_type": "code",
      "source": [
        "#visualising feature importance of XGB\n",
        "plt.rcParams.update({'figure.figsize':(8,5),'figure.dpi':100})\n",
        "feature_imp = pd.DataFrame({\"Variable\": X_test.columns,\"Importance\": random_t})\n",
        "feature_imp.sort_values(by=\"Importance\", ascending=False, inplace = True)\n",
        "sns.barplot(x=feature_imp['Importance'], y= feature_imp['Variable'])"
      ],
      "metadata": {
        "colab": {
          "base_uri": "https://localhost:8080/",
          "height": 474
        },
        "id": "fFc2QwrWr2Xb",
        "outputId": "a41b2614-ef3a-487d-85f2-fb8084926f43"
      },
      "id": "fFc2QwrWr2Xb",
      "execution_count": 44,
      "outputs": [
        {
          "output_type": "execute_result",
          "data": {
            "text/plain": [
              "<matplotlib.axes._subplots.AxesSubplot at 0x7f05edb33e90>"
            ]
          },
          "metadata": {},
          "execution_count": 44
        },
        {
          "output_type": "display_data",
          "data": {
            "text/plain": [
              "<Figure size 800x500 with 1 Axes>"
            ],
            "image/png": "[encoded data removed]"
          },
          "metadata": {
            "needs_background": "light"
          }
        }
      ]
    },
    {
      "cell_type": "markdown",
      "source": [
        "Here, we can see that out of all the features present, customers is, among all, the most important one. Hence, influencing predictions the most"
      ],
      "metadata": {
        "id": "TEABhNZ5sG2Q"
      },
      "id": "TEABhNZ5sG2Q"
    },
    {
      "cell_type": "code",
      "source": [
        "#test values\n",
        "baseline_r2 = 0.913278\t\n",
        "random_r2 = 0.950859\t\n",
        "r_tuned_r2 = 0.951033\t\n",
        "lgbm_regressor_r2 = 0.885444\t"
      ],
      "metadata": {
        "id": "ymRGsO9YsDOf"
      },
      "id": "ymRGsO9YsDOf",
      "execution_count": 45,
      "outputs": []
    },
    {
      "cell_type": "code",
      "source": [
        "#improvement % \n",
        "improvement_r = ((random_r2 - baseline_r2)/baseline_r2)*100\n",
        "print('Model Performance')\n",
        "print(f'Improvement of {round(improvement_r,3)} % was seen in Random Forest against Decision Tree.')"
      ],
      "metadata": {
        "colab": {
          "base_uri": "https://localhost:8080/"
        },
        "id": "hip0j1hTsKaH",
        "outputId": "f1b62457-8c42-47de-82c9-0212dd01f9ac"
      },
      "id": "hip0j1hTsKaH",
      "execution_count": 46,
      "outputs": [
        {
          "output_type": "stream",
          "name": "stdout",
          "text": [
            "Model Performance\n",
            "Improvement of 4.115 % was seen in Random Forest against Decision Tree.\n"
          ]
        }
      ]
    },
    {
      "cell_type": "markdown",
      "source": [
        "Random Forest Tuned vs Baseline and Random Forest Models"
      ],
      "metadata": {
        "id": "34_tQQOEsjIK"
      },
      "id": "34_tQQOEsjIK"
    },
    {
      "cell_type": "code",
      "source": [
        "#improvement % of tuned vs baseline\n",
        "\n",
        "improvement_r = ((r_tuned_r2 - baseline_r2)/baseline_r2)*100\n",
        "print('Model Performance')\n",
        "print(f'Improvement of {round(improvement_r,3)} % was seen in Random Forest Tuned against Decision Tree.')"
      ],
      "metadata": {
        "colab": {
          "base_uri": "https://localhost:8080/"
        },
        "id": "2lJ56_gpslmS",
        "outputId": "469de2c7-4b7f-4d38-8c2b-849b9bc5bbca"
      },
      "id": "2lJ56_gpslmS",
      "execution_count": 47,
      "outputs": [
        {
          "output_type": "stream",
          "name": "stdout",
          "text": [
            "Model Performance\n",
            "Improvement of 4.134 % was seen in Random Forest Tuned against Decision Tree.\n"
          ]
        }
      ]
    },
    {
      "cell_type": "code",
      "source": [
        "#improvement % of tuned vs simple random forest\n",
        "improvement_r = ((r_tuned_r2 - random_r2)/random_r2)*100\n",
        "print('Model Performance')\n",
        "print(f'Improvement of {round(improvement_r,3)} % was seen in Random Forest Tuned against Simple Random Forest.')"
      ],
      "metadata": {
        "colab": {
          "base_uri": "https://localhost:8080/"
        },
        "id": "NOgNwaEzsrJi",
        "outputId": "7ae91ca1-cac5-42d2-b8ef-7c1c8f75d318"
      },
      "id": "NOgNwaEzsrJi",
      "execution_count": 48,
      "outputs": [
        {
          "output_type": "stream",
          "name": "stdout",
          "text": [
            "Model Performance\n",
            "Improvement of 0.018 % was seen in Random Forest Tuned against Simple Random Forest.\n"
          ]
        }
      ]
    },
    {
      "cell_type": "markdown",
      "source": [
        "Oservation:\n",
        "1.   We observed maximum r2 for Random forest Tuned, which was only 0.018% more than the simple random forest model.\n",
        "2.   LGBM with its default parameters gave least r2."
      ],
      "metadata": {
        "id": "RUmD3NUusyFz"
      },
      "id": "RUmD3NUusyFz"
    },
    {
      "cell_type": "markdown",
      "source": [
        "### **Conclusion:**\n",
        "\n",
        "We had sales data for around 2.5 years and we had got to predict, sales prices for next six weeks. After cleaning data, we took all the data points with some sales to split data into Test and Train data.\n",
        "\n",
        "Thereafter, we performed StandardScaling techniques to get scale data and started fitting models on it.\n",
        "\n",
        "We selected decision tree as our base model, and then went ahead with RandomForest and LGBMRegressor models.\n",
        "\n",
        "Random Forest with its parameters tuned, gave us the maximum r2 score, although it was least different from Random Forest model with default Parameters.\n",
        "\n",
        "Some important conclusions drawn from the analysis are as follows:\n",
        "\n",
        "\n",
        "\n",
        "1.   There were more sales on Monday, probably because shops generally remain closed on Sundays which had the lowest sales in a week. This validates the hypothesis about this feature.\n",
        "2.   There is a high correlation between Customers and Sales.\n",
        "3.  Stores in close proximity had more sales than those with large competition distance. This can be due to busy location and accessibility factors.\n",
        "4.   Store type B though being few in number had the highest sales average. The reasons include all three kinds of assortments specially assortment level b which is only available at type b stores and being open on sundays and state holidays as well.\n",
        "\n",
        "5.   The outliers in the dataset showed justifiable behaviour. The outliers were either of store type b or had promotion going on which increased sales.\n"
      ],
      "metadata": {
        "id": "5jOe6fRQuyeU"
      },
      "id": "5jOe6fRQuyeU"
    },
    {
      "cell_type": "markdown",
      "source": [
        "### **Recommendations**\n",
        "1.   Store type B should be increased in number\n",
        "2.   More store should be encouraged to have more assortment levels, as it leads to more sales.\n",
        "3.   Store must be encourage to do promotion as it increases the sales.\n",
        "4.   Drug is an essential commodity, so if possible, stores to try keep it open even on holidays, even if it is for a very short time.\n",
        "\n",
        "\n",
        "\n"
      ],
      "metadata": {
        "id": "0PY8dPqlwUii"
      },
      "id": "0PY8dPqlwUii"
    }
  ],
  "metadata": {
    "kernelspec": {
      "display_name": "Python 3 (ipykernel)",
      "language": "python",
      "name": "python3"
    },
    "language_info": {
      "codemirror_mode": {
        "name": "ipython",
        "version": 3
      },
      "file_extension": ".py",
      "mimetype": "text/x-python",
      "name": "python",
      "nbconvert_exporter": "python",
      "pygments_lexer": "ipython3",
      "version": "3.9.12"
    },
    "colab": {
      "provenance": [],
      "include_colab_link": true
    }
  },
  "nbformat": 4,
  "nbformat_minor": 5
}